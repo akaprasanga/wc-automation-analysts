{
 "cells": [
  {
   "cell_type": "code",
   "execution_count": 6,
   "metadata": {
    "collapsed": false
   },
   "outputs": [
   ],
   "source": [
    "import pandas as pd\n",
    "import plotly.express as \n",
    "px"
   ]
  },
  {
   "cell_type": "code",
   "execution_count": 4,
   "metadata": {
    "collapsed": false
   },
   "outputs": [
   ],
   "source": [
    "my_dataset = pd.read_csv(\"Cleaned_Global_pollution.csv\")"
   ]
  },
  {
   "cell_type": "code",
   "execution_count": 3,
   "metadata": {
    "collapsed": false
   },
   "outputs": [
    {
     "data": {
      "text/html": [
       "<div>\n",
       "<style scoped>\n",
       "    .dataframe tbody tr th:only-of-type {\n",
       "        vertical-align: middle;\n",
       "    }\n",
       "\n",
       "    .dataframe tbody tr th {\n",
       "        vertical-align: top;\n",
       "    }\n",
       "\n",
       "    .dataframe thead th {\n",
       "        text-align: right;\n",
       "    }\n",
       "</style>\n",
       "<table border=\"1\" class=\"dataframe\">\n",
       "  <thead>\n",
       "    <tr style=\"text-align: right;\">\n",
       "      <th></th>\n",
       "      <th>region_id</th>\n",
       "      <th>country_name</th>\n",
       "      <th>gdp</th>\n",
       "      <th>composition_food_organic_waste_percent</th>\n",
       "      <th>composition_glass_percent</th>\n",
       "      <th>composition_metal_percent</th>\n",
       "      <th>composition_other_percent</th>\n",
       "      <th>composition_paper_cardboard_percent</th>\n",
       "      <th>composition_plastic_percent</th>\n",
       "      <th>other_information_national_agency_to_enforce_solid_waste_laws_and_regulations</th>\n",
       "      <th>other_information_national_law_governing_solid_waste_management_in_the_country</th>\n",
       "      <th>other_information_ppp_rules_and_regulations</th>\n",
       "      <th>population_population_number_of_people</th>\n",
       "      <th>special_waste_e_waste_tons_year</th>\n",
       "      <th>total_msw_total_msw_generated_tons_year</th>\n",
       "    </tr>\n",
       "  </thead>\n",
       "  <tbody>\n",
       "    <tr>\n",
       "      <th>0</th>\n",
       "      <td>LCN</td>\n",
       "      <td>Aruba</td>\n",
       "      <td>35563.312500</td>\n",
       "      <td>43.200000</td>\n",
       "      <td>4.000000</td>\n",
       "      <td>3.000000</td>\n",
       "      <td>14.000000</td>\n",
       "      <td>13.155000</td>\n",
       "      <td>11.500000</td>\n",
       "      <td>Yes</td>\n",
       "      <td>Yes</td>\n",
       "      <td>Yes</td>\n",
       "      <td>103187</td>\n",
       "      <td>22500.0</td>\n",
       "      <td>8.813202e+04</td>\n",
       "    </tr>\n",
       "    <tr>\n",
       "      <th>1</th>\n",
       "      <td>SAS</td>\n",
       "      <td>Afghanistan</td>\n",
       "      <td>2057.062256</td>\n",
       "      <td>43.200000</td>\n",
       "      <td>4.000000</td>\n",
       "      <td>3.000000</td>\n",
       "      <td>14.000000</td>\n",
       "      <td>13.155000</td>\n",
       "      <td>11.500000</td>\n",
       "      <td>Yes</td>\n",
       "      <td>Yes</td>\n",
       "      <td>Yes</td>\n",
       "      <td>34656032</td>\n",
       "      <td>20000.0</td>\n",
       "      <td>5.628525e+06</td>\n",
       "    </tr>\n",
       "    <tr>\n",
       "      <th>2</th>\n",
       "      <td>SSF</td>\n",
       "      <td>Angola</td>\n",
       "      <td>8036.690430</td>\n",
       "      <td>51.800000</td>\n",
       "      <td>6.700000</td>\n",
       "      <td>4.400000</td>\n",
       "      <td>11.500000</td>\n",
       "      <td>11.900000</td>\n",
       "      <td>13.500000</td>\n",
       "      <td>Yes</td>\n",
       "      <td>Yes</td>\n",
       "      <td>Yes</td>\n",
       "      <td>25096150</td>\n",
       "      <td>92000.0</td>\n",
       "      <td>4.213644e+06</td>\n",
       "    </tr>\n",
       "    <tr>\n",
       "      <th>3</th>\n",
       "      <td>ECS</td>\n",
       "      <td>Albania</td>\n",
       "      <td>13724.058590</td>\n",
       "      <td>51.400000</td>\n",
       "      <td>4.500000</td>\n",
       "      <td>4.800000</td>\n",
       "      <td>15.210000</td>\n",
       "      <td>9.900000</td>\n",
       "      <td>9.600000</td>\n",
       "      <td>Yes</td>\n",
       "      <td>Yes</td>\n",
       "      <td>Yes</td>\n",
       "      <td>2854191</td>\n",
       "      <td>20000.0</td>\n",
       "      <td>1.087447e+06</td>\n",
       "    </tr>\n",
       "    <tr>\n",
       "      <th>4</th>\n",
       "      <td>ECS</td>\n",
       "      <td>Andorra</td>\n",
       "      <td>43711.800780</td>\n",
       "      <td>31.200000</td>\n",
       "      <td>8.200000</td>\n",
       "      <td>2.600000</td>\n",
       "      <td>11.600000</td>\n",
       "      <td>35.100000</td>\n",
       "      <td>11.300000</td>\n",
       "      <td>Yes</td>\n",
       "      <td>Yes</td>\n",
       "      <td>Yes</td>\n",
       "      <td>82431</td>\n",
       "      <td>22500.0</td>\n",
       "      <td>4.300000e+04</td>\n",
       "    </tr>\n",
       "    <tr>\n",
       "      <th>...</th>\n",
       "      <td>...</td>\n",
       "      <td>...</td>\n",
       "      <td>...</td>\n",
       "      <td>...</td>\n",
       "      <td>...</td>\n",
       "      <td>...</td>\n",
       "      <td>...</td>\n",
       "      <td>...</td>\n",
       "      <td>...</td>\n",
       "      <td>...</td>\n",
       "      <td>...</td>\n",
       "      <td>...</td>\n",
       "      <td>...</td>\n",
       "      <td>...</td>\n",
       "      <td>...</td>\n",
       "    </tr>\n",
       "    <tr>\n",
       "      <th>212</th>\n",
       "      <td>ECS</td>\n",
       "      <td>Kosovo</td>\n",
       "      <td>9723.561523</td>\n",
       "      <td>42.000000</td>\n",
       "      <td>6.000000</td>\n",
       "      <td>6.000000</td>\n",
       "      <td>20.000000</td>\n",
       "      <td>8.000000</td>\n",
       "      <td>11.000000</td>\n",
       "      <td>Yes</td>\n",
       "      <td>Yes</td>\n",
       "      <td>Yes</td>\n",
       "      <td>1801800</td>\n",
       "      <td>23.0</td>\n",
       "      <td>3.190000e+05</td>\n",
       "    </tr>\n",
       "    <tr>\n",
       "      <th>213</th>\n",
       "      <td>MEA</td>\n",
       "      <td>Yemen, Rep.</td>\n",
       "      <td>8269.671875</td>\n",
       "      <td>65.000000</td>\n",
       "      <td>1.000000</td>\n",
       "      <td>6.000000</td>\n",
       "      <td>6.000000</td>\n",
       "      <td>7.000000</td>\n",
       "      <td>10.000000</td>\n",
       "      <td>Yes</td>\n",
       "      <td>Yes</td>\n",
       "      <td>No</td>\n",
       "      <td>27584212</td>\n",
       "      <td>42000.0</td>\n",
       "      <td>4.836820e+06</td>\n",
       "    </tr>\n",
       "    <tr>\n",
       "      <th>214</th>\n",
       "      <td>SSF</td>\n",
       "      <td>South Africa</td>\n",
       "      <td>12666.607420</td>\n",
       "      <td>16.381655</td>\n",
       "      <td>5.200216</td>\n",
       "      <td>16.910461</td>\n",
       "      <td>45.020646</td>\n",
       "      <td>9.396918</td>\n",
       "      <td>7.090104</td>\n",
       "      <td>Yes</td>\n",
       "      <td>Yes</td>\n",
       "      <td>Yes</td>\n",
       "      <td>51729344</td>\n",
       "      <td>321000.0</td>\n",
       "      <td>1.845723e+07</td>\n",
       "    </tr>\n",
       "    <tr>\n",
       "      <th>215</th>\n",
       "      <td>SSF</td>\n",
       "      <td>Zambia</td>\n",
       "      <td>3201.289307</td>\n",
       "      <td>43.200000</td>\n",
       "      <td>4.000000</td>\n",
       "      <td>3.000000</td>\n",
       "      <td>14.000000</td>\n",
       "      <td>13.155000</td>\n",
       "      <td>11.500000</td>\n",
       "      <td>Yes</td>\n",
       "      <td>Yes</td>\n",
       "      <td>Yes</td>\n",
       "      <td>14264756</td>\n",
       "      <td>15000.0</td>\n",
       "      <td>2.608268e+06</td>\n",
       "    </tr>\n",
       "    <tr>\n",
       "      <th>216</th>\n",
       "      <td>SSF</td>\n",
       "      <td>Zimbabwe</td>\n",
       "      <td>3190.506592</td>\n",
       "      <td>36.000000</td>\n",
       "      <td>5.000000</td>\n",
       "      <td>6.000000</td>\n",
       "      <td>3.000000</td>\n",
       "      <td>27.000000</td>\n",
       "      <td>23.000000</td>\n",
       "      <td>Yes</td>\n",
       "      <td>Yes</td>\n",
       "      <td>Yes</td>\n",
       "      <td>12500525</td>\n",
       "      <td>13000.0</td>\n",
       "      <td>1.449752e+06</td>\n",
       "    </tr>\n",
       "  </tbody>\n",
       "</table>\n",
       "<p>217 rows × 15 columns</p>\n",
       "</div>"
      ],
      "text/plain": [
       "    region_id  country_name           gdp  \\\n",
       "0         LCN         Aruba  35563.312500   \n",
       "1         SAS   Afghanistan   2057.062256   \n",
       "2         SSF        Angola   8036.690430   \n",
       "3         ECS       Albania  13724.058590   \n",
       "4         ECS       Andorra  43711.800780   \n",
       "..        ...           ...           ...   \n",
       "212       ECS        Kosovo   9723.561523   \n",
       "213       MEA   Yemen, Rep.   8269.671875   \n",
       "214       SSF  South Africa  12666.607420   \n",
       "215       SSF        Zambia   3201.289307   \n",
       "216       SSF      Zimbabwe   3190.506592   \n",
       "\n",
       "     composition_food_organic_waste_percent  composition_glass_percent  \\\n",
       "0                                 43.200000                   4.000000   \n",
       "1                                 43.200000                   4.000000   \n",
       "2                                 51.800000                   6.700000   \n",
       "3                                 51.400000                   4.500000   \n",
       "4                                 31.200000                   8.200000   \n",
       "..                                      ...                        ...   \n",
       "212                               42.000000                   6.000000   \n",
       "213                               65.000000                   1.000000   \n",
       "214                               16.381655                   5.200216   \n",
       "215                               43.200000                   4.000000   \n",
       "216                               36.000000                   5.000000   \n",
       "\n",
       "     composition_metal_percent  composition_other_percent  \\\n",
       "0                     3.000000                  14.000000   \n",
       "1                     3.000000                  14.000000   \n",
       "2                     4.400000                  11.500000   \n",
       "3                     4.800000                  15.210000   \n",
       "4                     2.600000                  11.600000   \n",
       "..                         ...                        ...   \n",
       "212                   6.000000                  20.000000   \n",
       "213                   6.000000                   6.000000   \n",
       "214                  16.910461                  45.020646   \n",
       "215                   3.000000                  14.000000   \n",
       "216                   6.000000                   3.000000   \n",
       "\n",
       "     composition_paper_cardboard_percent  composition_plastic_percent  \\\n",
       "0                              13.155000                    11.500000   \n",
       "1                              13.155000                    11.500000   \n",
       "2                              11.900000                    13.500000   \n",
       "3                               9.900000                     9.600000   \n",
       "4                              35.100000                    11.300000   \n",
       "..                                   ...                          ...   \n",
       "212                             8.000000                    11.000000   \n",
       "213                             7.000000                    10.000000   \n",
       "214                             9.396918                     7.090104   \n",
       "215                            13.155000                    11.500000   \n",
       "216                            27.000000                    23.000000   \n",
       "\n",
       "    other_information_national_agency_to_enforce_solid_waste_laws_and_regulations  \\\n",
       "0                                                  Yes                              \n",
       "1                                                  Yes                              \n",
       "2                                                  Yes                              \n",
       "3                                                  Yes                              \n",
       "4                                                  Yes                              \n",
       "..                                                 ...                              \n",
       "212                                                Yes                              \n",
       "213                                                Yes                              \n",
       "214                                                Yes                              \n",
       "215                                                Yes                              \n",
       "216                                                Yes                              \n",
       "\n",
       "    other_information_national_law_governing_solid_waste_management_in_the_country  \\\n",
       "0                                                  Yes                               \n",
       "1                                                  Yes                               \n",
       "2                                                  Yes                               \n",
       "3                                                  Yes                               \n",
       "4                                                  Yes                               \n",
       "..                                                 ...                               \n",
       "212                                                Yes                               \n",
       "213                                                Yes                               \n",
       "214                                                Yes                               \n",
       "215                                                Yes                               \n",
       "216                                                Yes                               \n",
       "\n",
       "    other_information_ppp_rules_and_regulations  \\\n",
       "0                                           Yes   \n",
       "1                                           Yes   \n",
       "2                                           Yes   \n",
       "3                                           Yes   \n",
       "4                                           Yes   \n",
       "..                                          ...   \n",
       "212                                         Yes   \n",
       "213                                          No   \n",
       "214                                         Yes   \n",
       "215                                         Yes   \n",
       "216                                         Yes   \n",
       "\n",
       "     population_population_number_of_people  special_waste_e_waste_tons_year  \\\n",
       "0                                    103187                          22500.0   \n",
       "1                                  34656032                          20000.0   \n",
       "2                                  25096150                          92000.0   \n",
       "3                                   2854191                          20000.0   \n",
       "4                                     82431                          22500.0   \n",
       "..                                      ...                              ...   \n",
       "212                                 1801800                             23.0   \n",
       "213                                27584212                          42000.0   \n",
       "214                                51729344                         321000.0   \n",
       "215                                14264756                          15000.0   \n",
       "216                                12500525                          13000.0   \n",
       "\n",
       "     total_msw_total_msw_generated_tons_year  \n",
       "0                               8.813202e+04  \n",
       "1                               5.628525e+06  \n",
       "2                               4.213644e+06  \n",
       "3                               1.087447e+06  \n",
       "4                               4.300000e+04  \n",
       "..                                       ...  \n",
       "212                             3.190000e+05  \n",
       "213                             4.836820e+06  \n",
       "214                             1.845723e+07  \n",
       "215                             2.608268e+06  \n",
       "216                             1.449752e+06  \n",
       "\n",
       "[217 rows x 15 columns]"
      ]
     },
     "execution_count": 3,
     "metadata": {
     },
     "output_type": "execute_result"
    }
   ],
   "source": [
    "my_dataset"
   ]
  },
  {
   "cell_type": "code",
   "execution_count": 28,
   "metadata": {
    "collapsed": false
   },
   "outputs": [
    {
     "data": {
      "text/html": "<html>\n<head><meta charset=\"utf-8\" /></head>\n<body>\n    <div>            <script src=\"https://cdnjs.cloudflare.com/ajax/libs/mathjax/2.7.5/MathJax.js?config=TeX-AMS-MML_SVG\"></script><script type=\"text/javascript\">if (window.MathJax && window.MathJax.Hub && window.MathJax.Hub.Config) {window.MathJax.Hub.Config({SVG: {font: \"STIX-Web\"}});}</script>                <script type=\"text/javascript\">window.PlotlyConfig = {MathJaxConfig: 'local'};</script>\n        <script src=\"https://cdn.plot.ly/plotly-2.16.1.min.js\"></script>                <div id=\"6f0d7d0a-581e-4e66-935f-4f97d590f141\" class=\"plotly-graph-div\" style=\"height:525px; width:100%;\"></div>            <script type=\"text/javascript\">                                    window.PLOTLYENV=window.PLOTLYENV || {};                                    if (document.getElementById(\"6f0d7d0a-581e-4e66-935f-4f97d590f141\")) {                    Plotly.newPlot(                        \"6f0d7d0a-581e-4e66-935f-4f97d590f141\",                        [{\"alignmentgroup\":\"True\",\"hovertemplate\":\"variable=Waste Generated in a Year (tons)<br>country_name=%{x}<br>value=%{y}<extra></extra>\",\"legendgroup\":\"Waste Generated in a Year (tons)\",\"marker\":{\"color\":\"#636efa\",\"pattern\":{\"shape\":\"\"}},\"name\":\"Waste Generated in a Year (tons)\",\"offsetgroup\":\"total_msw_total_msw_generated_tons_year\",\"orientation\":\"v\",\"showlegend\":true,\"textposition\":\"auto\",\"x\":[\"Aruba\",\"Afghanistan\",\"Angola\",\"Albania\",\"Andorra\",\"United Arab Emirates\",\"Argentina\",\"Armenia\",\"American Samoa\",\"Antigua and Barbuda\",\"Australia\",\"Austria\",\"Azerbaijan\",\"Burundi\",\"Belgium\",\"Benin\",\"Burkina Faso\",\"Bangladesh\",\"Bulgaria\",\"Bahrain\",\"Bahamas, The\",\"Bosnia and Herzegovina\",\"Belarus\",\"Belize\",\"Bermuda\",\"Bolivia\",\"Brazil\",\"Barbados\",\"Brunei Darussalam\",\"Bhutan\",\"Botswana\",\"Central African Republic\",\"Canada\",\"Switzerland\",\"Channel Islands\",\"Chile\",\"China\",\"C\\u00f4te d\\u2019Ivoire\",\"Cameroon\",\"Congo, Dem. Rep.\",\"Congo, Rep.\",\"Colombia\",\"Comoros\",\"Cabo Verde\",\"Costa Rica\",\"Cuba\",\"Curacao\",\"Cayman Islands\",\"Cyprus\",\"Czech Republic\",\"Germany\",\"Djibouti\",\"Dominica\",\"Denmark\",\"Dominican Republic\",\"Algeria\",\"Ecuador\",\"Egypt, Arab Rep.\",\"Eritrea\",\"Spain\",\"Estonia\",\"Ethiopia\",\"Finland\",\"Fiji\",\"France\",\"Faeroe Islands\",\"Micronesia, Fed. Sts.\",\"Gabon\",\"United Kingdom\",\"Georgia\",\"Ghana\",\"Gibraltar\",\"Guinea\",\"Gambia, The\",\"Guinea-Bissau\",\"Equatorial Guinea\",\"Greece\",\"Grenada\",\"Greenland\",\"Guatemala\",\"Guam\",\"Guyana\",\"Hong Kong SAR, China\",\"Honduras\",\"Croatia\",\"Haiti\",\"Hungary\",\"Indonesia\",\"Isle of Man\",\"India\",\"Ireland\",\"Iran, Islamic Rep.\",\"Iraq\",\"Iceland\",\"Israel\",\"Italy\",\"Jamaica\",\"Jordan\",\"Japan\",\"Kazakhstan\",\"Kenya\",\"Kyrgyz Republic\",\"Cambodia\",\"Kiribati\",\"St. Kitts and Nevis\",\"Korea, Rep.\",\"Kuwait\",\"Lao PDR\",\"Lebanon\",\"Liberia\",\"Libya\",\"St. Lucia\",\"Liechtenstein\",\"Sri Lanka\",\"Lesotho\",\"Lithuania\",\"Luxembourg\",\"Latvia\",\"Macao SAR, China\",\"St. Martin (French part)\",\"Morocco\",\"Monaco\",\"Moldova\",\"Madagascar\",\"Maldives\",\"Mexico\",\"Marshall Islands\",\"Macedonia, FYR\",\"Mali\",\"Malta\",\"Myanmar\",\"Montenegro\",\"Mongolia\",\"Northern Mariana Islands\",\"Mozambique\",\"Mauritania\",\"Mauritius\",\"Malawi\",\"Malaysia\",\"Namibia\",\"New Caledonia\",\"Niger\",\"Nigeria\",\"Nicaragua\",\"Netherlands\",\"Norway\",\"Nepal\",\"Nauru\",\"New Zealand\",\"Oman\",\"Pakistan\",\"Panama\",\"Peru\",\"Philippines\",\"Palau\",\"Papua New Guinea\",\"Poland\",\"Puerto Rico\",\"Portugal\",\"Paraguay\",\"West Bank and Gaza\",\"French Polynesia\",\"Qatar\",\"Romania\",\"Russian Federation\",\"Rwanda\",\"Saudi Arabia\",\"Sudan\",\"Senegal\",\"Singapore\",\"Solomon Islands\",\"Sierra Leone\",\"El Salvador\",\"San Marino\",\"Somalia\",\"Serbia\",\"South Sudan\",\"S\\u00e3o Tom\\u00e9 and Pr\\u00edncipe\",\"Suriname\",\"Slovak Republic\",\"Slovenia\",\"Sweden\",\"Eswatini\",\"Sint Maarten (Dutch part)\",\"Seychelles\",\"Syrian Arab Republic\",\"Turks and Caicos Islands\",\"Chad\",\"Togo\",\"Thailand\",\"Tajikistan\",\"Turkmenistan\",\"Timor-Leste\",\"Tonga\",\"Trinidad and Tobago\",\"Tunisia\",\"Turkey\",\"Tuvalu\",\"Afghanistan\",\"Tanzania\",\"Uganda\",\"Ukraine\",\"Uruguay\",\"United States\",\"Uzbekistan\",\"St. Vincent and the Grenadines\",\"Venezuela, RB\",\"British Virgin Islands\",\"Virgin Islands (U.S.)\",\"Vietnam\",\"Vanuatu\",\"Samoa\",\"Kosovo\",\"Yemen, Rep.\",\"South Africa\",\"Zambia\",\"Zimbabwe\"],\"xaxis\":\"x\",\"y\":[88132.0167,5628525.37,4213643.585,1087446.75,43000.0,5617682.0,17910550.0,492800.0,18989.49,30585.0,13345000.0,5219715.5,2930349.0,1872016.0,4765883.0,685936.01,2575251.11,14778497.33,2859190.0,951942.9695,264000.0,1248718.0,4280000.0,101378.8303,82000.0,2219052.0,79069584.0,174815.4444,216253.156,111314.05,210854.4426,1105983.0,25103034.0,6079556.0,178933.0,6517000.0,395081376.0,4440814.27,3270616.59,14385226.02,451200.0,12150120.0,91013.0,132555.0,1460000.0,2692691.98,24703.8132,60000.0,769485.125,5334854.5,50627876.0,114997.249,13176.0,4910858.5,4063910.0,12378740.0,5297211.143,21000000.0,726957.37,22408548.0,489511.7188,6532786.97,3124497.75,189389.594,36748820.0,61000.0,26039.57,238102.31,30771140.0,800000.0,3538274.978,16954.0,596911.0,193440.54,289514.0,198443.06,5615352.5,29536.11394,50000.0,2756740.971,141500.0,179251.5,5679816.465,2162027.696,1810037.5,2309852.455,3780970.25,65200000.0,50551.0,189750000.0,2910655.0,17885000.0,13140000.0,225270.4063,5400000.0,30088400.0,1051694.575,2529997.0,42720000.0,4659740.0,5595099.0,1113300.0,1089000.0,35723.8275,32892.14,20452776.0,1750000.0,351900.0,2040000.0,564466.7,2147596.472,77616.228,32382.0,2631650.0,73457.0,1315390.375,490337.75,839714.375,377942.0,15479.5,6852000.0,46000.0,3981200.0,3768759.16,211505.78,53100000.0,8614.0,626970.375,1937354.44,348841.1875,4677306.529,329780.3125,2900000.0,32761.4145,2500000.0,454000.0,438000.0,1297844.48,12982685.0,256729.0,108157.384,1865645.67,27614830.07,1528816.293,8805088.0,4149967.25,1768977.49,6191.7505,3405000.0,1734885.15,30760000.0,1472262.215,8356711.13,14631922.9,9426.7455,1000000.0,12758213.0,4170953.0,5268211.0,1818501.365,1387000.0,147000.0,1000990.016,5419832.5,60000000.0,4384969.0,16125700.58,2831291.0,2454059.25,1870000.0,179971.9644,610222.09,1648996.18,17174.68,2326099.17,2347401.5,2680681.0,25586.5,78619.79915,2296164.75,1052324.75,4618168.5,218199.47,1787400.0,48000.0,4500000.0,1787400.0,1358850.53,1109030.45,26853366.0,1787400.0,500000.0,63875.0,17238.20175,727874.0,2700000.0,35374156.0,3989.4865,7336000.0,9276995.0,7045049.836,15242025.0,1260139.509,265224528.0,4000000.0,31561.34925,9779093.14,21099.19,146500.0,9570300.0,70225.489,27399.09,319000.0,4836820.0,18457232.0,2608268.0,1449752.0],\"yaxis\":\"y\",\"type\":\"bar\"}],                        {\"template\":{\"data\":{\"histogram2dcontour\":[{\"type\":\"histogram2dcontour\",\"colorbar\":{\"outlinewidth\":0,\"ticks\":\"\"},\"colorscale\":[[0.0,\"#0d0887\"],[0.1111111111111111,\"#46039f\"],[0.2222222222222222,\"#7201a8\"],[0.3333333333333333,\"#9c179e\"],[0.4444444444444444,\"#bd3786\"],[0.5555555555555556,\"#d8576b\"],[0.6666666666666666,\"#ed7953\"],[0.7777777777777778,\"#fb9f3a\"],[0.8888888888888888,\"#fdca26\"],[1.0,\"#f0f921\"]]}],\"choropleth\":[{\"type\":\"choropleth\",\"colorbar\":{\"outlinewidth\":0,\"ticks\":\"\"}}],\"histogram2d\":[{\"type\":\"histogram2d\",\"colorbar\":{\"outlinewidth\":0,\"ticks\":\"\"},\"colorscale\":[[0.0,\"#0d0887\"],[0.1111111111111111,\"#46039f\"],[0.2222222222222222,\"#7201a8\"],[0.3333333333333333,\"#9c179e\"],[0.4444444444444444,\"#bd3786\"],[0.5555555555555556,\"#d8576b\"],[0.6666666666666666,\"#ed7953\"],[0.7777777777777778,\"#fb9f3a\"],[0.8888888888888888,\"#fdca26\"],[1.0,\"#f0f921\"]]}],\"heatmap\":[{\"type\":\"heatmap\",\"colorbar\":{\"outlinewidth\":0,\"ticks\":\"\"},\"colorscale\":[[0.0,\"#0d0887\"],[0.1111111111111111,\"#46039f\"],[0.2222222222222222,\"#7201a8\"],[0.3333333333333333,\"#9c179e\"],[0.4444444444444444,\"#bd3786\"],[0.5555555555555556,\"#d8576b\"],[0.6666666666666666,\"#ed7953\"],[0.7777777777777778,\"#fb9f3a\"],[0.8888888888888888,\"#fdca26\"],[1.0,\"#f0f921\"]]}],\"heatmapgl\":[{\"type\":\"heatmapgl\",\"colorbar\":{\"outlinewidth\":0,\"ticks\":\"\"},\"colorscale\":[[0.0,\"#0d0887\"],[0.1111111111111111,\"#46039f\"],[0.2222222222222222,\"#7201a8\"],[0.3333333333333333,\"#9c179e\"],[0.4444444444444444,\"#bd3786\"],[0.5555555555555556,\"#d8576b\"],[0.6666666666666666,\"#ed7953\"],[0.7777777777777778,\"#fb9f3a\"],[0.8888888888888888,\"#fdca26\"],[1.0,\"#f0f921\"]]}],\"contourcarpet\":[{\"type\":\"contourcarpet\",\"colorbar\":{\"outlinewidth\":0,\"ticks\":\"\"}}],\"contour\":[{\"type\":\"contour\",\"colorbar\":{\"outlinewidth\":0,\"ticks\":\"\"},\"colorscale\":[[0.0,\"#0d0887\"],[0.1111111111111111,\"#46039f\"],[0.2222222222222222,\"#7201a8\"],[0.3333333333333333,\"#9c179e\"],[0.4444444444444444,\"#bd3786\"],[0.5555555555555556,\"#d8576b\"],[0.6666666666666666,\"#ed7953\"],[0.7777777777777778,\"#fb9f3a\"],[0.8888888888888888,\"#fdca26\"],[1.0,\"#f0f921\"]]}],\"surface\":[{\"type\":\"surface\",\"colorbar\":{\"outlinewidth\":0,\"ticks\":\"\"},\"colorscale\":[[0.0,\"#0d0887\"],[0.1111111111111111,\"#46039f\"],[0.2222222222222222,\"#7201a8\"],[0.3333333333333333,\"#9c179e\"],[0.4444444444444444,\"#bd3786\"],[0.5555555555555556,\"#d8576b\"],[0.6666666666666666,\"#ed7953\"],[0.7777777777777778,\"#fb9f3a\"],[0.8888888888888888,\"#fdca26\"],[1.0,\"#f0f921\"]]}],\"mesh3d\":[{\"type\":\"mesh3d\",\"colorbar\":{\"outlinewidth\":0,\"ticks\":\"\"}}],\"scatter\":[{\"fillpattern\":{\"fillmode\":\"overlay\",\"size\":10,\"solidity\":0.2},\"type\":\"scatter\"}],\"parcoords\":[{\"type\":\"parcoords\",\"line\":{\"colorbar\":{\"outlinewidth\":0,\"ticks\":\"\"}}}],\"scatterpolargl\":[{\"type\":\"scatterpolargl\",\"marker\":{\"colorbar\":{\"outlinewidth\":0,\"ticks\":\"\"}}}],\"bar\":[{\"error_x\":{\"color\":\"#2a3f5f\"},\"error_y\":{\"color\":\"#2a3f5f\"},\"marker\":{\"line\":{\"color\":\"#E5ECF6\",\"width\":0.5},\"pattern\":{\"fillmode\":\"overlay\",\"size\":10,\"solidity\":0.2}},\"type\":\"bar\"}],\"scattergeo\":[{\"type\":\"scattergeo\",\"marker\":{\"colorbar\":{\"outlinewidth\":0,\"ticks\":\"\"}}}],\"scatterpolar\":[{\"type\":\"scatterpolar\",\"marker\":{\"colorbar\":{\"outlinewidth\":0,\"ticks\":\"\"}}}],\"histogram\":[{\"marker\":{\"pattern\":{\"fillmode\":\"overlay\",\"size\":10,\"solidity\":0.2}},\"type\":\"histogram\"}],\"scattergl\":[{\"type\":\"scattergl\",\"marker\":{\"colorbar\":{\"outlinewidth\":0,\"ticks\":\"\"}}}],\"scatter3d\":[{\"type\":\"scatter3d\",\"line\":{\"colorbar\":{\"outlinewidth\":0,\"ticks\":\"\"}},\"marker\":{\"colorbar\":{\"outlinewidth\":0,\"ticks\":\"\"}}}],\"scattermapbox\":[{\"type\":\"scattermapbox\",\"marker\":{\"colorbar\":{\"outlinewidth\":0,\"ticks\":\"\"}}}],\"scatterternary\":[{\"type\":\"scatterternary\",\"marker\":{\"colorbar\":{\"outlinewidth\":0,\"ticks\":\"\"}}}],\"scattercarpet\":[{\"type\":\"scattercarpet\",\"marker\":{\"colorbar\":{\"outlinewidth\":0,\"ticks\":\"\"}}}],\"carpet\":[{\"aaxis\":{\"endlinecolor\":\"#2a3f5f\",\"gridcolor\":\"white\",\"linecolor\":\"white\",\"minorgridcolor\":\"white\",\"startlinecolor\":\"#2a3f5f\"},\"baxis\":{\"endlinecolor\":\"#2a3f5f\",\"gridcolor\":\"white\",\"linecolor\":\"white\",\"minorgridcolor\":\"white\",\"startlinecolor\":\"#2a3f5f\"},\"type\":\"carpet\"}],\"table\":[{\"cells\":{\"fill\":{\"color\":\"#EBF0F8\"},\"line\":{\"color\":\"white\"}},\"header\":{\"fill\":{\"color\":\"#C8D4E3\"},\"line\":{\"color\":\"white\"}},\"type\":\"table\"}],\"barpolar\":[{\"marker\":{\"line\":{\"color\":\"#E5ECF6\",\"width\":0.5},\"pattern\":{\"fillmode\":\"overlay\",\"size\":10,\"solidity\":0.2}},\"type\":\"barpolar\"}],\"pie\":[{\"automargin\":true,\"type\":\"pie\"}]},\"layout\":{\"autotypenumbers\":\"strict\",\"colorway\":[\"#636efa\",\"#EF553B\",\"#00cc96\",\"#ab63fa\",\"#FFA15A\",\"#19d3f3\",\"#FF6692\",\"#B6E880\",\"#FF97FF\",\"#FECB52\"],\"font\":{\"color\":\"#2a3f5f\"},\"hovermode\":\"closest\",\"hoverlabel\":{\"align\":\"left\"},\"paper_bgcolor\":\"white\",\"plot_bgcolor\":\"#E5ECF6\",\"polar\":{\"bgcolor\":\"#E5ECF6\",\"angularaxis\":{\"gridcolor\":\"white\",\"linecolor\":\"white\",\"ticks\":\"\"},\"radialaxis\":{\"gridcolor\":\"white\",\"linecolor\":\"white\",\"ticks\":\"\"}},\"ternary\":{\"bgcolor\":\"#E5ECF6\",\"aaxis\":{\"gridcolor\":\"white\",\"linecolor\":\"white\",\"ticks\":\"\"},\"baxis\":{\"gridcolor\":\"white\",\"linecolor\":\"white\",\"ticks\":\"\"},\"caxis\":{\"gridcolor\":\"white\",\"linecolor\":\"white\",\"ticks\":\"\"}},\"coloraxis\":{\"colorbar\":{\"outlinewidth\":0,\"ticks\":\"\"}},\"colorscale\":{\"sequential\":[[0.0,\"#0d0887\"],[0.1111111111111111,\"#46039f\"],[0.2222222222222222,\"#7201a8\"],[0.3333333333333333,\"#9c179e\"],[0.4444444444444444,\"#bd3786\"],[0.5555555555555556,\"#d8576b\"],[0.6666666666666666,\"#ed7953\"],[0.7777777777777778,\"#fb9f3a\"],[0.8888888888888888,\"#fdca26\"],[1.0,\"#f0f921\"]],\"sequentialminus\":[[0.0,\"#0d0887\"],[0.1111111111111111,\"#46039f\"],[0.2222222222222222,\"#7201a8\"],[0.3333333333333333,\"#9c179e\"],[0.4444444444444444,\"#bd3786\"],[0.5555555555555556,\"#d8576b\"],[0.6666666666666666,\"#ed7953\"],[0.7777777777777778,\"#fb9f3a\"],[0.8888888888888888,\"#fdca26\"],[1.0,\"#f0f921\"]],\"diverging\":[[0,\"#8e0152\"],[0.1,\"#c51b7d\"],[0.2,\"#de77ae\"],[0.3,\"#f1b6da\"],[0.4,\"#fde0ef\"],[0.5,\"#f7f7f7\"],[0.6,\"#e6f5d0\"],[0.7,\"#b8e186\"],[0.8,\"#7fbc41\"],[0.9,\"#4d9221\"],[1,\"#276419\"]]},\"xaxis\":{\"gridcolor\":\"white\",\"linecolor\":\"white\",\"ticks\":\"\",\"title\":{\"standoff\":15},\"zerolinecolor\":\"white\",\"automargin\":true,\"zerolinewidth\":2},\"yaxis\":{\"gridcolor\":\"white\",\"linecolor\":\"white\",\"ticks\":\"\",\"title\":{\"standoff\":15},\"zerolinecolor\":\"white\",\"automargin\":true,\"zerolinewidth\":2},\"scene\":{\"xaxis\":{\"backgroundcolor\":\"#E5ECF6\",\"gridcolor\":\"white\",\"linecolor\":\"white\",\"showbackground\":true,\"ticks\":\"\",\"zerolinecolor\":\"white\",\"gridwidth\":2},\"yaxis\":{\"backgroundcolor\":\"#E5ECF6\",\"gridcolor\":\"white\",\"linecolor\":\"white\",\"showbackground\":true,\"ticks\":\"\",\"zerolinecolor\":\"white\",\"gridwidth\":2},\"zaxis\":{\"backgroundcolor\":\"#E5ECF6\",\"gridcolor\":\"white\",\"linecolor\":\"white\",\"showbackground\":true,\"ticks\":\"\",\"zerolinecolor\":\"white\",\"gridwidth\":2}},\"shapedefaults\":{\"line\":{\"color\":\"#2a3f5f\"}},\"annotationdefaults\":{\"arrowcolor\":\"#2a3f5f\",\"arrowhead\":0,\"arrowwidth\":1},\"geo\":{\"bgcolor\":\"white\",\"landcolor\":\"#E5ECF6\",\"subunitcolor\":\"white\",\"showland\":true,\"showlakes\":true,\"lakecolor\":\"white\"},\"title\":{\"x\":0.05},\"mapbox\":{\"style\":\"light\"}}},\"xaxis\":{\"anchor\":\"y\",\"domain\":[0.0,1.0],\"title\":{\"text\":\"Countries\"},\"categoryorder\":\"total descending\"},\"yaxis\":{\"anchor\":\"x\",\"domain\":[0.0,1.0],\"title\":{\"text\":\"Waste Generated in a Year (tons)\"}},\"legend\":{\"title\":{\"text\":\"variable\"},\"tracegroupgap\":0},\"title\":{\"text\":\"Countries total waste\"},\"barmode\":\"stack\"},                        {\"responsive\": true}                    ).then(function(){\n                            \nvar gd = document.getElementById('6f0d7d0a-581e-4e66-935f-4f97d590f141');\nvar x = new MutationObserver(function (mutations, observer) {{\n        var display = window.getComputedStyle(gd).display;\n        if (!display || display === 'none') {{\n            console.log([gd, 'removed!']);\n            Plotly.purge(gd);\n            observer.disconnect();\n        }}\n}});\n\n// Listen for the removal of the full notebook cells\nvar notebookContainer = gd.closest('#notebook-container');\nif (notebookContainer) {{\n    x.observe(notebookContainer, {childList: true});\n}}\n\n// Listen for the clearing of the current output cell\nvar outputEl = gd.closest('.output');\nif (outputEl) {{\n    x.observe(outputEl, {childList: true});\n}}\n\n                        })                };                            </script>        </div>\n</body>\n</html>"
     },
     "execution_count": 28,
     "metadata": {
     },
     "output_type": "execute_result"
    }
   ],
   "source": [
    "# Suniti's  graph goes here\n",
    "fig = px.bar(my_dataset, x = \"country_name\", y = ['total_msw_total_msw_generated_tons_year'], title = \"Countries total waste\").update_layout(\n",
    "    xaxis_title=\"Countries\", yaxis_title=\"Waste Generated in a Year (tons)\"\n",
    ")\n",
    "#fig.update_traces(textfont_size=12, textangle=0, textposition=\"outside\", cliponaxis=False)\n",
    "#fig.add_trace(go.Bar(name=\"Waste\", x=[\"total_msw_total_msw_generated_tons_year\"]))\n",
    "#fig.update_layout(barmode='stack', xaxis={'Countries'})\n",
    "fig.update_layout(barmode='stack', xaxis={'categoryorder':'total descending'})\n",
    "#newnames = {'composition_glass_percent':'Glass Percentage', 'composition_metal_percent': 'Metal Percentage'}\n",
    "newnames = {'total_msw_total_msw_generated_tons_year':'Waste Generated in a Year (tons)'}\n",
    "fig.for_each_trace(lambda t: t.update(name = newnames[t.name],\n",
    "                                      legendgroup = newnames[t.name],\n",
    "                                      hovertemplate = t.hovertemplate.replace(t.name, newnames[t.name])\n",
    "                                     )\n",
    "                  )\n",
    "                  \n",
    "fig.show()\n"
   ]
  },
  {
   "cell_type": "code",
   "execution_count": 39,
   "metadata": {
    "collapsed": false
   },
   "outputs": [
   ],
   "source": [
    "#Conclusion We can see from this data that China, the United States, and India have the highest waste percentages, each in the range of 400-100 million tons of waste annually\n"
   ]
  },
  {
   "cell_type": "code",
   "execution_count": 18,
   "metadata": {
    "collapsed": false
   },
   "outputs": [
    {
     "data": {
      "text/html": "<html>\n<head><meta charset=\"utf-8\" /></head>\n<body>\n    <div>            <script src=\"https://cdnjs.cloudflare.com/ajax/libs/mathjax/2.7.5/MathJax.js?config=TeX-AMS-MML_SVG\"></script><script type=\"text/javascript\">if (window.MathJax && window.MathJax.Hub && window.MathJax.Hub.Config) {window.MathJax.Hub.Config({SVG: {font: \"STIX-Web\"}});}</script>                <script type=\"text/javascript\">window.PlotlyConfig = {MathJaxConfig: 'local'};</script>\n        <script src=\"https://cdn.plot.ly/plotly-2.16.1.min.js\"></script>                <div id=\"4eda0ab6-8fc3-4773-87a1-d633eae67c04\" class=\"plotly-graph-div\" style=\"height:525px; width:100%;\"></div>            <script type=\"text/javascript\">                                    window.PLOTLYENV=window.PLOTLYENV || {};                                    if (document.getElementById(\"4eda0ab6-8fc3-4773-87a1-d633eae67c04\")) {                    Plotly.newPlot(                        \"4eda0ab6-8fc3-4773-87a1-d633eae67c04\",                        [{\"alignmentgroup\":\"True\",\"hovertemplate\":\"region_id=LCN<br>country_name=%{x}<br>composition_plastic_percent=%{y}<extra></extra>\",\"legendgroup\":\"LCN\",\"marker\":{\"color\":\"#EF553B\",\"pattern\":{\"shape\":\"\"}},\"name\":\"LCN\",\"offsetgroup\":\"LCN\",\"orientation\":\"v\",\"showlegend\":true,\"textposition\":\"auto\",\"x\":[\"Aruba\",\"Argentina\",\"Antigua and Barbuda\",\"Bahamas, The\",\"Belize\",\"Bolivia\",\"Brazil\",\"Barbados\",\"Chile\",\"Colombia\",\"Costa Rica\",\"Cuba\",\"Curacao\",\"Cayman Islands\",\"Dominica\",\"Dominican Republic\",\"Ecuador\",\"Grenada\",\"Guatemala\",\"Guyana\",\"Honduras\",\"Haiti\",\"Jamaica\",\"St. Kitts and Nevis\",\"St. Lucia\",\"St. Martin (French part)\",\"Mexico\",\"Nicaragua\",\"Panama\",\"Peru\",\"Puerto Rico\",\"Paraguay\",\"El Salvador\",\"Suriname\",\"Sint Maarten (Dutch part)\",\"Turks and Caicos Islands\",\"Trinidad and Tobago\",\"Uruguay\",\"St. Vincent and the Grenadines\",\"Venezuela, RB\",\"British Virgin Islands\",\"Virgin Islands (U.S.)\"],\"xaxis\":\"x\",\"y\":[11.5,14.61,13.0,13.0,19.0,10.19305019,13.5,17.1,9.4,12.83,11.0,9.6,11.5,11.0,16.0,10.0,11.44,16.4,17.29080875,14.2,14.41,12.7,12.2,23.2,22.0,11.5,10.9,11.5,12.0,10.52,10.4,11.5,10.0,11.0,13.0,16.3,19.17,11.0,8.4,11.5,6.3,13.0],\"yaxis\":\"y\",\"type\":\"bar\"},{\"alignmentgroup\":\"True\",\"hovertemplate\":\"region_id=SAS<br>country_name=%{x}<br>composition_plastic_percent=%{y}<extra></extra>\",\"legendgroup\":\"SAS\",\"marker\":{\"color\":\"#00cc96\",\"pattern\":{\"shape\":\"\"}},\"name\":\"SAS\",\"offsetgroup\":\"SAS\",\"orientation\":\"v\",\"showlegend\":true,\"textposition\":\"auto\",\"x\":[\"Afghanistan\",\"Bangladesh\",\"Bhutan\",\"India\",\"Sri Lanka\",\"Maldives\",\"Nepal\",\"Pakistan\"],\"xaxis\":\"x\",\"y\":[11.5,4.67,13.0,11.5,7.0,3.0,15.14,9.0],\"yaxis\":\"y\",\"type\":\"bar\"},{\"alignmentgroup\":\"True\",\"hovertemplate\":\"region_id=SSF<br>country_name=%{x}<br>composition_plastic_percent=%{y}<extra></extra>\",\"legendgroup\":\"SSF\",\"marker\":{\"color\":\"#ab63fa\",\"pattern\":{\"shape\":\"\"}},\"name\":\"SSF\",\"offsetgroup\":\"SSF\",\"orientation\":\"v\",\"showlegend\":true,\"textposition\":\"auto\",\"x\":[\"Angola\",\"Burundi\",\"Benin\",\"Burkina Faso\",\"Botswana\",\"Central African Republic\",\"C\\u00f4te d\\u2019Ivoire\",\"Cameroon\",\"Congo, Dem. Rep.\",\"Congo, Rep.\",\"Comoros\",\"Cabo Verde\",\"Eritrea\",\"Ethiopia\",\"Gabon\",\"Ghana\",\"Guinea\",\"Gambia, The\",\"Guinea-Bissau\",\"Equatorial Guinea\",\"Kenya\",\"Liberia\",\"Lesotho\",\"Madagascar\",\"Mali\",\"Mozambique\",\"Mauritania\",\"Mauritius\",\"Malawi\",\"Namibia\",\"Niger\",\"Nigeria\",\"Rwanda\",\"Sudan\",\"Senegal\",\"Sierra Leone\",\"Somalia\",\"South Sudan\",\"S\\u00e3o Tom\\u00e9 and Pr\\u00edncipe\",\"Eswatini\",\"Seychelles\",\"Chad\",\"Togo\",\"Tanzania\",\"Uganda\",\"South Africa\",\"Zambia\",\"Zimbabwe\"],\"xaxis\":\"x\",\"y\":[13.5,3.5,7.3,9.0,11.5,11.5,11.5,3.3,11.5,11.5,5.0,11.5,11.5,2.3,11.5,4.0,4.0,11.5,11.5,11.5,18.7,11.5,11.5,11.5,2.0,11.5,20.0,12.4,11.5,11.5,2.0,4.8,11.5,12.7,9.0,11.5,11.5,11.5,11.5,11.5,9.9,6.0,10.0,11.5,7.6,7.090104302,11.5,23.0],\"yaxis\":\"y\",\"type\":\"bar\"},{\"alignmentgroup\":\"True\",\"hovertemplate\":\"region_id=ECS<br>country_name=%{x}<br>composition_plastic_percent=%{y}<extra></extra>\",\"legendgroup\":\"ECS\",\"marker\":{\"color\":\"#FFA15A\",\"pattern\":{\"shape\":\"\"}},\"name\":\"ECS\",\"offsetgroup\":\"ECS\",\"orientation\":\"v\",\"showlegend\":true,\"textposition\":\"auto\",\"x\":[\"Albania\",\"Andorra\",\"Armenia\",\"Austria\",\"Azerbaijan\",\"Belgium\",\"Bulgaria\",\"Bosnia and Herzegovina\",\"Belarus\",\"Switzerland\",\"Channel Islands\",\"Cyprus\",\"Czech Republic\",\"Germany\",\"Denmark\",\"Spain\",\"Estonia\",\"Finland\",\"France\",\"Faeroe Islands\",\"United Kingdom\",\"Georgia\",\"Gibraltar\",\"Greece\",\"Greenland\",\"Croatia\",\"Hungary\",\"Isle of Man\",\"Ireland\",\"Iceland\",\"Italy\",\"Kazakhstan\",\"Kyrgyz Republic\",\"Liechtenstein\",\"Lithuania\",\"Luxembourg\",\"Latvia\",\"Monaco\",\"Moldova\",\"Macedonia, FYR\",\"Montenegro\",\"Netherlands\",\"Norway\",\"Poland\",\"Portugal\",\"Romania\",\"Russian Federation\",\"San Marino\",\"Serbia\",\"Slovak Republic\",\"Slovenia\",\"Sweden\",\"Tajikistan\",\"Turkmenistan\",\"Turkey\",\"Ukraine\",\"Uzbekistan\",\"Kosovo\"],\"xaxis\":\"x\",\"y\":[9.6,11.3,11.4,11.1,7.87,13.94,12.15,11.5,12.0,15.0,11.5,14.77,2.2,13.0,1.61,9.0,18.6,1.45,9.0,11.5,20.2,3.0,15.86,14.0,2.4,22.9,13.0,11.5,12.4,9.0,11.6,25.0,11.5,5.4,10.15,18.0,7.7,1.0,10.0,13.9,18.42,14.0,2.25,12.13,10.72,12.33,14.21,5.6,12.73,11.0,11.5,6.58,11.5,2.19,3.0,7.0,2.5,11.0],\"yaxis\":\"y\",\"type\":\"bar\"},{\"alignmentgroup\":\"True\",\"hovertemplate\":\"region_id=MEA<br>country_name=%{x}<br>composition_plastic_percent=%{y}<extra></extra>\",\"legendgroup\":\"MEA\",\"marker\":{\"color\":\"#19d3f3\",\"pattern\":{\"shape\":\"\"}},\"name\":\"MEA\",\"offsetgroup\":\"MEA\",\"orientation\":\"v\",\"showlegend\":true,\"textposition\":\"auto\",\"x\":[\"United Arab Emirates\",\"Bahrain\",\"Djibouti\",\"Algeria\",\"Egypt, Arab Rep.\",\"Iran, Islamic Rep.\",\"Iraq\",\"Israel\",\"Jordan\",\"Kuwait\",\"Lebanon\",\"Libya\",\"Morocco\",\"Malta\",\"Oman\",\"West Bank and Gaza\",\"Qatar\",\"Saudi Arabia\",\"Syrian Arab Republic\",\"Tunisia\",\"Yemen, Rep.\"],\"xaxis\":\"x\",\"y\":[19.0,7.4,11.5,16.9,13.0,8.5,5.29,18.0,16.0,20.0,11.5,7.5,8.0,12.0,21.0,14.2,14.0,11.0,7.0,11.0,10.0],\"yaxis\":\"y\",\"type\":\"bar\"},{\"alignmentgroup\":\"True\",\"hovertemplate\":\"region_id=EAS<br>country_name=%{x}<br>composition_plastic_percent=%{y}<extra></extra>\",\"legendgroup\":\"EAS\",\"marker\":{\"color\":\"#FF6692\",\"pattern\":{\"shape\":\"\"}},\"name\":\"EAS\",\"offsetgroup\":\"EAS\",\"orientation\":\"v\",\"showlegend\":true,\"textposition\":\"auto\",\"x\":[\"American Samoa\",\"Australia\",\"Brunei Darussalam\",\"China\",\"Fiji\",\"Micronesia, Fed. Sts.\",\"Guam\",\"Hong Kong SAR, China\",\"Indonesia\",\"Japan\",\"Cambodia\",\"Kiribati\",\"Korea, Rep.\",\"Lao PDR\",\"Macao SAR, China\",\"Marshall Islands\",\"Myanmar\",\"Mongolia\",\"Northern Mariana Islands\",\"Malaysia\",\"New Caledonia\",\"Nauru\",\"New Zealand\",\"Philippines\",\"Palau\",\"Papua New Guinea\",\"French Polynesia\",\"Singapore\",\"Solomon Islands\",\"Thailand\",\"Timor-Leste\",\"Tonga\",\"Tuvalu\",\"Afghanistan\",\"Vietnam\",\"Vanuatu\",\"Samoa\"],\"xaxis\":\"x\",\"y\":[12.8,7.61,16.0,9.8,7.5,26.17,12.4,21.0,14.0,11.0,8.6,16.5,24.3,6.1,7.9,13.0,11.5,14.5,16.5,15.0,16.5,16.5,8.0,10.55,32.0,10.0,2.0,10.58,22.35,17.59,16.5,13.4,16.5,20.23,12.15,6.45,13.0],\"yaxis\":\"y\",\"type\":\"bar\"},{\"alignmentgroup\":\"True\",\"hovertemplate\":\"region_id=NAC<br>country_name=%{x}<br>composition_plastic_percent=%{y}<extra></extra>\",\"legendgroup\":\"NAC\",\"marker\":{\"color\":\"#B6E880\",\"pattern\":{\"shape\":\"\"}},\"name\":\"NAC\",\"offsetgroup\":\"NAC\",\"orientation\":\"v\",\"showlegend\":true,\"textposition\":\"auto\",\"x\":[\"Bermuda\",\"Canada\",\"United States\"],\"xaxis\":\"x\",\"y\":[13.0,3.0,12.9],\"yaxis\":\"y\",\"type\":\"bar\"}],                        {\"template\":{\"data\":{\"histogram2dcontour\":[{\"type\":\"histogram2dcontour\",\"colorbar\":{\"outlinewidth\":0,\"ticks\":\"\"},\"colorscale\":[[0.0,\"#0d0887\"],[0.1111111111111111,\"#46039f\"],[0.2222222222222222,\"#7201a8\"],[0.3333333333333333,\"#9c179e\"],[0.4444444444444444,\"#bd3786\"],[0.5555555555555556,\"#d8576b\"],[0.6666666666666666,\"#ed7953\"],[0.7777777777777778,\"#fb9f3a\"],[0.8888888888888888,\"#fdca26\"],[1.0,\"#f0f921\"]]}],\"choropleth\":[{\"type\":\"choropleth\",\"colorbar\":{\"outlinewidth\":0,\"ticks\":\"\"}}],\"histogram2d\":[{\"type\":\"histogram2d\",\"colorbar\":{\"outlinewidth\":0,\"ticks\":\"\"},\"colorscale\":[[0.0,\"#0d0887\"],[0.1111111111111111,\"#46039f\"],[0.2222222222222222,\"#7201a8\"],[0.3333333333333333,\"#9c179e\"],[0.4444444444444444,\"#bd3786\"],[0.5555555555555556,\"#d8576b\"],[0.6666666666666666,\"#ed7953\"],[0.7777777777777778,\"#fb9f3a\"],[0.8888888888888888,\"#fdca26\"],[1.0,\"#f0f921\"]]}],\"heatmap\":[{\"type\":\"heatmap\",\"colorbar\":{\"outlinewidth\":0,\"ticks\":\"\"},\"colorscale\":[[0.0,\"#0d0887\"],[0.1111111111111111,\"#46039f\"],[0.2222222222222222,\"#7201a8\"],[0.3333333333333333,\"#9c179e\"],[0.4444444444444444,\"#bd3786\"],[0.5555555555555556,\"#d8576b\"],[0.6666666666666666,\"#ed7953\"],[0.7777777777777778,\"#fb9f3a\"],[0.8888888888888888,\"#fdca26\"],[1.0,\"#f0f921\"]]}],\"heatmapgl\":[{\"type\":\"heatmapgl\",\"colorbar\":{\"outlinewidth\":0,\"ticks\":\"\"},\"colorscale\":[[0.0,\"#0d0887\"],[0.1111111111111111,\"#46039f\"],[0.2222222222222222,\"#7201a8\"],[0.3333333333333333,\"#9c179e\"],[0.4444444444444444,\"#bd3786\"],[0.5555555555555556,\"#d8576b\"],[0.6666666666666666,\"#ed7953\"],[0.7777777777777778,\"#fb9f3a\"],[0.8888888888888888,\"#fdca26\"],[1.0,\"#f0f921\"]]}],\"contourcarpet\":[{\"type\":\"contourcarpet\",\"colorbar\":{\"outlinewidth\":0,\"ticks\":\"\"}}],\"contour\":[{\"type\":\"contour\",\"colorbar\":{\"outlinewidth\":0,\"ticks\":\"\"},\"colorscale\":[[0.0,\"#0d0887\"],[0.1111111111111111,\"#46039f\"],[0.2222222222222222,\"#7201a8\"],[0.3333333333333333,\"#9c179e\"],[0.4444444444444444,\"#bd3786\"],[0.5555555555555556,\"#d8576b\"],[0.6666666666666666,\"#ed7953\"],[0.7777777777777778,\"#fb9f3a\"],[0.8888888888888888,\"#fdca26\"],[1.0,\"#f0f921\"]]}],\"surface\":[{\"type\":\"surface\",\"colorbar\":{\"outlinewidth\":0,\"ticks\":\"\"},\"colorscale\":[[0.0,\"#0d0887\"],[0.1111111111111111,\"#46039f\"],[0.2222222222222222,\"#7201a8\"],[0.3333333333333333,\"#9c179e\"],[0.4444444444444444,\"#bd3786\"],[0.5555555555555556,\"#d8576b\"],[0.6666666666666666,\"#ed7953\"],[0.7777777777777778,\"#fb9f3a\"],[0.8888888888888888,\"#fdca26\"],[1.0,\"#f0f921\"]]}],\"mesh3d\":[{\"type\":\"mesh3d\",\"colorbar\":{\"outlinewidth\":0,\"ticks\":\"\"}}],\"scatter\":[{\"fillpattern\":{\"fillmode\":\"overlay\",\"size\":10,\"solidity\":0.2},\"type\":\"scatter\"}],\"parcoords\":[{\"type\":\"parcoords\",\"line\":{\"colorbar\":{\"outlinewidth\":0,\"ticks\":\"\"}}}],\"scatterpolargl\":[{\"type\":\"scatterpolargl\",\"marker\":{\"colorbar\":{\"outlinewidth\":0,\"ticks\":\"\"}}}],\"bar\":[{\"error_x\":{\"color\":\"#2a3f5f\"},\"error_y\":{\"color\":\"#2a3f5f\"},\"marker\":{\"line\":{\"color\":\"#E5ECF6\",\"width\":0.5},\"pattern\":{\"fillmode\":\"overlay\",\"size\":10,\"solidity\":0.2}},\"type\":\"bar\"}],\"scattergeo\":[{\"type\":\"scattergeo\",\"marker\":{\"colorbar\":{\"outlinewidth\":0,\"ticks\":\"\"}}}],\"scatterpolar\":[{\"type\":\"scatterpolar\",\"marker\":{\"colorbar\":{\"outlinewidth\":0,\"ticks\":\"\"}}}],\"histogram\":[{\"marker\":{\"pattern\":{\"fillmode\":\"overlay\",\"size\":10,\"solidity\":0.2}},\"type\":\"histogram\"}],\"scattergl\":[{\"type\":\"scattergl\",\"marker\":{\"colorbar\":{\"outlinewidth\":0,\"ticks\":\"\"}}}],\"scatter3d\":[{\"type\":\"scatter3d\",\"line\":{\"colorbar\":{\"outlinewidth\":0,\"ticks\":\"\"}},\"marker\":{\"colorbar\":{\"outlinewidth\":0,\"ticks\":\"\"}}}],\"scattermapbox\":[{\"type\":\"scattermapbox\",\"marker\":{\"colorbar\":{\"outlinewidth\":0,\"ticks\":\"\"}}}],\"scatterternary\":[{\"type\":\"scatterternary\",\"marker\":{\"colorbar\":{\"outlinewidth\":0,\"ticks\":\"\"}}}],\"scattercarpet\":[{\"type\":\"scattercarpet\",\"marker\":{\"colorbar\":{\"outlinewidth\":0,\"ticks\":\"\"}}}],\"carpet\":[{\"aaxis\":{\"endlinecolor\":\"#2a3f5f\",\"gridcolor\":\"white\",\"linecolor\":\"white\",\"minorgridcolor\":\"white\",\"startlinecolor\":\"#2a3f5f\"},\"baxis\":{\"endlinecolor\":\"#2a3f5f\",\"gridcolor\":\"white\",\"linecolor\":\"white\",\"minorgridcolor\":\"white\",\"startlinecolor\":\"#2a3f5f\"},\"type\":\"carpet\"}],\"table\":[{\"cells\":{\"fill\":{\"color\":\"#EBF0F8\"},\"line\":{\"color\":\"white\"}},\"header\":{\"fill\":{\"color\":\"#C8D4E3\"},\"line\":{\"color\":\"white\"}},\"type\":\"table\"}],\"barpolar\":[{\"marker\":{\"line\":{\"color\":\"#E5ECF6\",\"width\":0.5},\"pattern\":{\"fillmode\":\"overlay\",\"size\":10,\"solidity\":0.2}},\"type\":\"barpolar\"}],\"pie\":[{\"automargin\":true,\"type\":\"pie\"}]},\"layout\":{\"autotypenumbers\":\"strict\",\"colorway\":[\"#636efa\",\"#EF553B\",\"#00cc96\",\"#ab63fa\",\"#FFA15A\",\"#19d3f3\",\"#FF6692\",\"#B6E880\",\"#FF97FF\",\"#FECB52\"],\"font\":{\"color\":\"#2a3f5f\"},\"hovermode\":\"closest\",\"hoverlabel\":{\"align\":\"left\"},\"paper_bgcolor\":\"white\",\"plot_bgcolor\":\"#E5ECF6\",\"polar\":{\"bgcolor\":\"#E5ECF6\",\"angularaxis\":{\"gridcolor\":\"white\",\"linecolor\":\"white\",\"ticks\":\"\"},\"radialaxis\":{\"gridcolor\":\"white\",\"linecolor\":\"white\",\"ticks\":\"\"}},\"ternary\":{\"bgcolor\":\"#E5ECF6\",\"aaxis\":{\"gridcolor\":\"white\",\"linecolor\":\"white\",\"ticks\":\"\"},\"baxis\":{\"gridcolor\":\"white\",\"linecolor\":\"white\",\"ticks\":\"\"},\"caxis\":{\"gridcolor\":\"white\",\"linecolor\":\"white\",\"ticks\":\"\"}},\"coloraxis\":{\"colorbar\":{\"outlinewidth\":0,\"ticks\":\"\"}},\"colorscale\":{\"sequential\":[[0.0,\"#0d0887\"],[0.1111111111111111,\"#46039f\"],[0.2222222222222222,\"#7201a8\"],[0.3333333333333333,\"#9c179e\"],[0.4444444444444444,\"#bd3786\"],[0.5555555555555556,\"#d8576b\"],[0.6666666666666666,\"#ed7953\"],[0.7777777777777778,\"#fb9f3a\"],[0.8888888888888888,\"#fdca26\"],[1.0,\"#f0f921\"]],\"sequentialminus\":[[0.0,\"#0d0887\"],[0.1111111111111111,\"#46039f\"],[0.2222222222222222,\"#7201a8\"],[0.3333333333333333,\"#9c179e\"],[0.4444444444444444,\"#bd3786\"],[0.5555555555555556,\"#d8576b\"],[0.6666666666666666,\"#ed7953\"],[0.7777777777777778,\"#fb9f3a\"],[0.8888888888888888,\"#fdca26\"],[1.0,\"#f0f921\"]],\"diverging\":[[0,\"#8e0152\"],[0.1,\"#c51b7d\"],[0.2,\"#de77ae\"],[0.3,\"#f1b6da\"],[0.4,\"#fde0ef\"],[0.5,\"#f7f7f7\"],[0.6,\"#e6f5d0\"],[0.7,\"#b8e186\"],[0.8,\"#7fbc41\"],[0.9,\"#4d9221\"],[1,\"#276419\"]]},\"xaxis\":{\"gridcolor\":\"white\",\"linecolor\":\"white\",\"ticks\":\"\",\"title\":{\"standoff\":15},\"zerolinecolor\":\"white\",\"automargin\":true,\"zerolinewidth\":2},\"yaxis\":{\"gridcolor\":\"white\",\"linecolor\":\"white\",\"ticks\":\"\",\"title\":{\"standoff\":15},\"zerolinecolor\":\"white\",\"automargin\":true,\"zerolinewidth\":2},\"scene\":{\"xaxis\":{\"backgroundcolor\":\"#E5ECF6\",\"gridcolor\":\"white\",\"linecolor\":\"white\",\"showbackground\":true,\"ticks\":\"\",\"zerolinecolor\":\"white\",\"gridwidth\":2},\"yaxis\":{\"backgroundcolor\":\"#E5ECF6\",\"gridcolor\":\"white\",\"linecolor\":\"white\",\"showbackground\":true,\"ticks\":\"\",\"zerolinecolor\":\"white\",\"gridwidth\":2},\"zaxis\":{\"backgroundcolor\":\"#E5ECF6\",\"gridcolor\":\"white\",\"linecolor\":\"white\",\"showbackground\":true,\"ticks\":\"\",\"zerolinecolor\":\"white\",\"gridwidth\":2}},\"shapedefaults\":{\"line\":{\"color\":\"#2a3f5f\"}},\"annotationdefaults\":{\"arrowcolor\":\"#2a3f5f\",\"arrowhead\":0,\"arrowwidth\":1},\"geo\":{\"bgcolor\":\"white\",\"landcolor\":\"#E5ECF6\",\"subunitcolor\":\"white\",\"showland\":true,\"showlakes\":true,\"lakecolor\":\"white\"},\"title\":{\"x\":0.05},\"mapbox\":{\"style\":\"light\"}}},\"xaxis\":{\"anchor\":\"y\",\"domain\":[0.0,1.0],\"title\":{\"text\":\"country_name\"},\"categoryorder\":\"total descending\"},\"yaxis\":{\"anchor\":\"x\",\"domain\":[0.0,1.0],\"title\":{\"text\":\"composition_plastic_percent\"}},\"legend\":{\"title\":{\"text\":\"region_id\"},\"tracegroupgap\":0},\"margin\":{\"t\":60},\"barmode\":\"stack\",\"title\":{\"text\":\"Country with highist composition of plastic\"}},                        {\"responsive\": true}                    ).then(function(){\n                            \nvar gd = document.getElementById('4eda0ab6-8fc3-4773-87a1-d633eae67c04');\nvar x = new MutationObserver(function (mutations, observer) {{\n        var display = window.getComputedStyle(gd).display;\n        if (!display || display === 'none') {{\n            console.log([gd, 'removed!']);\n            Plotly.purge(gd);\n            observer.disconnect();\n        }}\n}});\n\n// Listen for the removal of the full notebook cells\nvar notebookContainer = gd.closest('#notebook-container');\nif (notebookContainer) {{\n    x.observe(notebookContainer, {childList: true});\n}}\n\n// Listen for the clearing of the current output cell\nvar outputEl = gd.closest('.output');\nif (outputEl) {{\n    x.observe(outputEl, {childList: true});\n}}\n\n                        })                };                            </script>        </div>\n</body>\n</html>"
     },
     "execution_count": 18,
     "metadata": {
     },
     "output_type": "execute_result"
    }
   ],
   "source": [
    "#Jeffrey\n",
    "fig = px.bar(my_dataset, y='composition_plastic_percent', x='country_name', color =\"region_id\", color_discrete_map={\"region_id\":\"blue, red, orange, green, purple, pink, azure\"})\n",
    "fig.update_layout(barmode='stack', xaxis={'categoryorder':'total descending'}, title = (\"Country with highist composition of plastic\") )\n",
    "fig.show()\n"
   ]
  },
  {
   "cell_type": "markdown",
   "metadata": {
    "collapsed": false
   },
   "source": [
    "In conclusion the country that produces the most amount of composition plastic is Palau. Palau is part of the region EAS.\n",
    "\n"
   ]
  },
  {
   "cell_type": "code",
   "execution_count": 24,
   "metadata": {
    "collapsed": false
   },
   "outputs": [
    {
     "data": {
      "text/html": "<html>\n<head><meta charset=\"utf-8\" /></head>\n<body>\n    <div>            <script src=\"https://cdnjs.cloudflare.com/ajax/libs/mathjax/2.7.5/MathJax.js?config=TeX-AMS-MML_SVG\"></script><script type=\"text/javascript\">if (window.MathJax && window.MathJax.Hub && window.MathJax.Hub.Config) {window.MathJax.Hub.Config({SVG: {font: \"STIX-Web\"}});}</script>                <script type=\"text/javascript\">window.PlotlyConfig = {MathJaxConfig: 'local'};</script>\n        <script src=\"https://cdn.plot.ly/plotly-2.16.1.min.js\"></script>                <div id=\"c303ea4c-404d-4482-b0fc-21077c9003b3\" class=\"plotly-graph-div\" style=\"height:525px; width:100%;\"></div>            <script type=\"text/javascript\">                                    window.PLOTLYENV=window.PLOTLYENV || {};                                    if (document.getElementById(\"c303ea4c-404d-4482-b0fc-21077c9003b3\")) {                    Plotly.newPlot(                        \"c303ea4c-404d-4482-b0fc-21077c9003b3\",                        [{\"alignmentgroup\":\"True\",\"customdata\":[[\"Aruba\"],[\"Argentina\"],[\"Antigua and Barbuda\"],[\"Bahamas, The\"],[\"Belize\"],[\"Bolivia\"],[\"Brazil\"],[\"Barbados\"],[\"Chile\"],[\"Colombia\"],[\"Costa Rica\"],[\"Cuba\"],[\"Curacao\"],[\"Cayman Islands\"],[\"Dominica\"],[\"Dominican Republic\"],[\"Ecuador\"],[\"Grenada\"],[\"Guatemala\"],[\"Guyana\"],[\"Honduras\"],[\"Haiti\"],[\"Jamaica\"],[\"St. Kitts and Nevis\"],[\"St. Lucia\"],[\"St. Martin (French part)\"],[\"Mexico\"],[\"Nicaragua\"],[\"Panama\"],[\"Peru\"],[\"Puerto Rico\"],[\"Paraguay\"],[\"El Salvador\"],[\"Suriname\"],[\"Sint Maarten (Dutch part)\"],[\"Turks and Caicos Islands\"],[\"Trinidad and Tobago\"],[\"Uruguay\"],[\"St. Vincent and the Grenadines\"],[\"Venezuela, RB\"],[\"British Virgin Islands\"],[\"Virgin Islands (U.S.)\"]],\"hovertemplate\":\"region_id=%{x}<br>composition_plastic_percent=%{y}<br>country_name=%{customdata[0]}<extra></extra>\",\"legendgroup\":\"LCN\",\"marker\":{\"color\":\"#636efa\",\"pattern\":{\"shape\":\"\"}},\"name\":\"LCN\",\"offsetgroup\":\"LCN\",\"orientation\":\"v\",\"showlegend\":true,\"textposition\":\"auto\",\"x\":[\"LCN\",\"LCN\",\"LCN\",\"LCN\",\"LCN\",\"LCN\",\"LCN\",\"LCN\",\"LCN\",\"LCN\",\"LCN\",\"LCN\",\"LCN\",\"LCN\",\"LCN\",\"LCN\",\"LCN\",\"LCN\",\"LCN\",\"LCN\",\"LCN\",\"LCN\",\"LCN\",\"LCN\",\"LCN\",\"LCN\",\"LCN\",\"LCN\",\"LCN\",\"LCN\",\"LCN\",\"LCN\",\"LCN\",\"LCN\",\"LCN\",\"LCN\",\"LCN\",\"LCN\",\"LCN\",\"LCN\",\"LCN\",\"LCN\"],\"xaxis\":\"x\",\"y\":[11.5,14.61,13.0,13.0,19.0,10.19305019,13.5,17.1,9.4,12.83,11.0,9.6,11.5,11.0,16.0,10.0,11.44,16.4,17.29080875,14.2,14.41,12.7,12.2,23.2,22.0,11.5,10.9,11.5,12.0,10.52,10.4,11.5,10.0,11.0,13.0,16.3,19.17,11.0,8.4,11.5,6.3,13.0],\"yaxis\":\"y\",\"type\":\"bar\"},{\"alignmentgroup\":\"True\",\"customdata\":[[\"Afghanistan\"],[\"Bangladesh\"],[\"Bhutan\"],[\"India\"],[\"Sri Lanka\"],[\"Maldives\"],[\"Nepal\"],[\"Pakistan\"]],\"hovertemplate\":\"region_id=%{x}<br>composition_plastic_percent=%{y}<br>country_name=%{customdata[0]}<extra></extra>\",\"legendgroup\":\"SAS\",\"marker\":{\"color\":\"#EF553B\",\"pattern\":{\"shape\":\"\"}},\"name\":\"SAS\",\"offsetgroup\":\"SAS\",\"orientation\":\"v\",\"showlegend\":true,\"textposition\":\"auto\",\"x\":[\"SAS\",\"SAS\",\"SAS\",\"SAS\",\"SAS\",\"SAS\",\"SAS\",\"SAS\"],\"xaxis\":\"x\",\"y\":[11.5,4.67,13.0,11.5,7.0,3.0,15.14,9.0],\"yaxis\":\"y\",\"type\":\"bar\"},{\"alignmentgroup\":\"True\",\"customdata\":[[\"Angola\"],[\"Burundi\"],[\"Benin\"],[\"Burkina Faso\"],[\"Botswana\"],[\"Central African Republic\"],[\"C\\u00f4te d\\u2019Ivoire\"],[\"Cameroon\"],[\"Congo, Dem. Rep.\"],[\"Congo, Rep.\"],[\"Comoros\"],[\"Cabo Verde\"],[\"Eritrea\"],[\"Ethiopia\"],[\"Gabon\"],[\"Ghana\"],[\"Guinea\"],[\"Gambia, The\"],[\"Guinea-Bissau\"],[\"Equatorial Guinea\"],[\"Kenya\"],[\"Liberia\"],[\"Lesotho\"],[\"Madagascar\"],[\"Mali\"],[\"Mozambique\"],[\"Mauritania\"],[\"Mauritius\"],[\"Malawi\"],[\"Namibia\"],[\"Niger\"],[\"Nigeria\"],[\"Rwanda\"],[\"Sudan\"],[\"Senegal\"],[\"Sierra Leone\"],[\"Somalia\"],[\"South Sudan\"],[\"S\\u00e3o Tom\\u00e9 and Pr\\u00edncipe\"],[\"Eswatini\"],[\"Seychelles\"],[\"Chad\"],[\"Togo\"],[\"Tanzania\"],[\"Uganda\"],[\"South Africa\"],[\"Zambia\"],[\"Zimbabwe\"]],\"hovertemplate\":\"region_id=%{x}<br>composition_plastic_percent=%{y}<br>country_name=%{customdata[0]}<extra></extra>\",\"legendgroup\":\"SSF\",\"marker\":{\"color\":\"#00cc96\",\"pattern\":{\"shape\":\"\"}},\"name\":\"SSF\",\"offsetgroup\":\"SSF\",\"orientation\":\"v\",\"showlegend\":true,\"textposition\":\"auto\",\"x\":[\"SSF\",\"SSF\",\"SSF\",\"SSF\",\"SSF\",\"SSF\",\"SSF\",\"SSF\",\"SSF\",\"SSF\",\"SSF\",\"SSF\",\"SSF\",\"SSF\",\"SSF\",\"SSF\",\"SSF\",\"SSF\",\"SSF\",\"SSF\",\"SSF\",\"SSF\",\"SSF\",\"SSF\",\"SSF\",\"SSF\",\"SSF\",\"SSF\",\"SSF\",\"SSF\",\"SSF\",\"SSF\",\"SSF\",\"SSF\",\"SSF\",\"SSF\",\"SSF\",\"SSF\",\"SSF\",\"SSF\",\"SSF\",\"SSF\",\"SSF\",\"SSF\",\"SSF\",\"SSF\",\"SSF\",\"SSF\"],\"xaxis\":\"x\",\"y\":[13.5,3.5,7.3,9.0,11.5,11.5,11.5,3.3,11.5,11.5,5.0,11.5,11.5,2.3,11.5,4.0,4.0,11.5,11.5,11.5,18.7,11.5,11.5,11.5,2.0,11.5,20.0,12.4,11.5,11.5,2.0,4.8,11.5,12.7,9.0,11.5,11.5,11.5,11.5,11.5,9.9,6.0,10.0,11.5,7.6,7.090104302,11.5,23.0],\"yaxis\":\"y\",\"type\":\"bar\"},{\"alignmentgroup\":\"True\",\"customdata\":[[\"Albania\"],[\"Andorra\"],[\"Armenia\"],[\"Austria\"],[\"Azerbaijan\"],[\"Belgium\"],[\"Bulgaria\"],[\"Bosnia and Herzegovina\"],[\"Belarus\"],[\"Switzerland\"],[\"Channel Islands\"],[\"Cyprus\"],[\"Czech Republic\"],[\"Germany\"],[\"Denmark\"],[\"Spain\"],[\"Estonia\"],[\"Finland\"],[\"France\"],[\"Faeroe Islands\"],[\"United Kingdom\"],[\"Georgia\"],[\"Gibraltar\"],[\"Greece\"],[\"Greenland\"],[\"Croatia\"],[\"Hungary\"],[\"Isle of Man\"],[\"Ireland\"],[\"Iceland\"],[\"Italy\"],[\"Kazakhstan\"],[\"Kyrgyz Republic\"],[\"Liechtenstein\"],[\"Lithuania\"],[\"Luxembourg\"],[\"Latvia\"],[\"Monaco\"],[\"Moldova\"],[\"Macedonia, FYR\"],[\"Montenegro\"],[\"Netherlands\"],[\"Norway\"],[\"Poland\"],[\"Portugal\"],[\"Romania\"],[\"Russian Federation\"],[\"San Marino\"],[\"Serbia\"],[\"Slovak Republic\"],[\"Slovenia\"],[\"Sweden\"],[\"Tajikistan\"],[\"Turkmenistan\"],[\"Turkey\"],[\"Ukraine\"],[\"Uzbekistan\"],[\"Kosovo\"]],\"hovertemplate\":\"region_id=%{x}<br>composition_plastic_percent=%{y}<br>country_name=%{customdata[0]}<extra></extra>\",\"legendgroup\":\"ECS\",\"marker\":{\"color\":\"#ab63fa\",\"pattern\":{\"shape\":\"\"}},\"name\":\"ECS\",\"offsetgroup\":\"ECS\",\"orientation\":\"v\",\"showlegend\":true,\"textposition\":\"auto\",\"x\":[\"ECS\",\"ECS\",\"ECS\",\"ECS\",\"ECS\",\"ECS\",\"ECS\",\"ECS\",\"ECS\",\"ECS\",\"ECS\",\"ECS\",\"ECS\",\"ECS\",\"ECS\",\"ECS\",\"ECS\",\"ECS\",\"ECS\",\"ECS\",\"ECS\",\"ECS\",\"ECS\",\"ECS\",\"ECS\",\"ECS\",\"ECS\",\"ECS\",\"ECS\",\"ECS\",\"ECS\",\"ECS\",\"ECS\",\"ECS\",\"ECS\",\"ECS\",\"ECS\",\"ECS\",\"ECS\",\"ECS\",\"ECS\",\"ECS\",\"ECS\",\"ECS\",\"ECS\",\"ECS\",\"ECS\",\"ECS\",\"ECS\",\"ECS\",\"ECS\",\"ECS\",\"ECS\",\"ECS\",\"ECS\",\"ECS\",\"ECS\",\"ECS\"],\"xaxis\":\"x\",\"y\":[9.6,11.3,11.4,11.1,7.87,13.94,12.15,11.5,12.0,15.0,11.5,14.77,2.2,13.0,1.61,9.0,18.6,1.45,9.0,11.5,20.2,3.0,15.86,14.0,2.4,22.9,13.0,11.5,12.4,9.0,11.6,25.0,11.5,5.4,10.15,18.0,7.7,1.0,10.0,13.9,18.42,14.0,2.25,12.13,10.72,12.33,14.21,5.6,12.73,11.0,11.5,6.58,11.5,2.19,3.0,7.0,2.5,11.0],\"yaxis\":\"y\",\"type\":\"bar\"},{\"alignmentgroup\":\"True\",\"customdata\":[[\"United Arab Emirates\"],[\"Bahrain\"],[\"Djibouti\"],[\"Algeria\"],[\"Egypt, Arab Rep.\"],[\"Iran, Islamic Rep.\"],[\"Iraq\"],[\"Israel\"],[\"Jordan\"],[\"Kuwait\"],[\"Lebanon\"],[\"Libya\"],[\"Morocco\"],[\"Malta\"],[\"Oman\"],[\"West Bank and Gaza\"],[\"Qatar\"],[\"Saudi Arabia\"],[\"Syrian Arab Republic\"],[\"Tunisia\"],[\"Yemen, Rep.\"]],\"hovertemplate\":\"region_id=%{x}<br>composition_plastic_percent=%{y}<br>country_name=%{customdata[0]}<extra></extra>\",\"legendgroup\":\"MEA\",\"marker\":{\"color\":\"#FFA15A\",\"pattern\":{\"shape\":\"\"}},\"name\":\"MEA\",\"offsetgroup\":\"MEA\",\"orientation\":\"v\",\"showlegend\":true,\"textposition\":\"auto\",\"x\":[\"MEA\",\"MEA\",\"MEA\",\"MEA\",\"MEA\",\"MEA\",\"MEA\",\"MEA\",\"MEA\",\"MEA\",\"MEA\",\"MEA\",\"MEA\",\"MEA\",\"MEA\",\"MEA\",\"MEA\",\"MEA\",\"MEA\",\"MEA\",\"MEA\"],\"xaxis\":\"x\",\"y\":[19.0,7.4,11.5,16.9,13.0,8.5,5.29,18.0,16.0,20.0,11.5,7.5,8.0,12.0,21.0,14.2,14.0,11.0,7.0,11.0,10.0],\"yaxis\":\"y\",\"type\":\"bar\"},{\"alignmentgroup\":\"True\",\"customdata\":[[\"American Samoa\"],[\"Australia\"],[\"Brunei Darussalam\"],[\"China\"],[\"Fiji\"],[\"Micronesia, Fed. Sts.\"],[\"Guam\"],[\"Hong Kong SAR, China\"],[\"Indonesia\"],[\"Japan\"],[\"Cambodia\"],[\"Kiribati\"],[\"Korea, Rep.\"],[\"Lao PDR\"],[\"Macao SAR, China\"],[\"Marshall Islands\"],[\"Myanmar\"],[\"Mongolia\"],[\"Northern Mariana Islands\"],[\"Malaysia\"],[\"New Caledonia\"],[\"Nauru\"],[\"New Zealand\"],[\"Philippines\"],[\"Palau\"],[\"Papua New Guinea\"],[\"French Polynesia\"],[\"Singapore\"],[\"Solomon Islands\"],[\"Thailand\"],[\"Timor-Leste\"],[\"Tonga\"],[\"Tuvalu\"],[\"Afghanistan\"],[\"Vietnam\"],[\"Vanuatu\"],[\"Samoa\"]],\"hovertemplate\":\"region_id=%{x}<br>composition_plastic_percent=%{y}<br>country_name=%{customdata[0]}<extra></extra>\",\"legendgroup\":\"EAS\",\"marker\":{\"color\":\"#19d3f3\",\"pattern\":{\"shape\":\"\"}},\"name\":\"EAS\",\"offsetgroup\":\"EAS\",\"orientation\":\"v\",\"showlegend\":true,\"textposition\":\"auto\",\"x\":[\"EAS\",\"EAS\",\"EAS\",\"EAS\",\"EAS\",\"EAS\",\"EAS\",\"EAS\",\"EAS\",\"EAS\",\"EAS\",\"EAS\",\"EAS\",\"EAS\",\"EAS\",\"EAS\",\"EAS\",\"EAS\",\"EAS\",\"EAS\",\"EAS\",\"EAS\",\"EAS\",\"EAS\",\"EAS\",\"EAS\",\"EAS\",\"EAS\",\"EAS\",\"EAS\",\"EAS\",\"EAS\",\"EAS\",\"EAS\",\"EAS\",\"EAS\",\"EAS\"],\"xaxis\":\"x\",\"y\":[12.8,7.61,16.0,9.8,7.5,26.17,12.4,21.0,14.0,11.0,8.6,16.5,24.3,6.1,7.9,13.0,11.5,14.5,16.5,15.0,16.5,16.5,8.0,10.55,32.0,10.0,2.0,10.58,22.35,17.59,16.5,13.4,16.5,20.23,12.15,6.45,13.0],\"yaxis\":\"y\",\"type\":\"bar\"},{\"alignmentgroup\":\"True\",\"customdata\":[[\"Bermuda\"],[\"Canada\"],[\"United States\"]],\"hovertemplate\":\"region_id=%{x}<br>composition_plastic_percent=%{y}<br>country_name=%{customdata[0]}<extra></extra>\",\"legendgroup\":\"NAC\",\"marker\":{\"color\":\"#FF6692\",\"pattern\":{\"shape\":\"\"}},\"name\":\"NAC\",\"offsetgroup\":\"NAC\",\"orientation\":\"v\",\"showlegend\":true,\"textposition\":\"auto\",\"x\":[\"NAC\",\"NAC\",\"NAC\"],\"xaxis\":\"x\",\"y\":[13.0,3.0,12.9],\"yaxis\":\"y\",\"type\":\"bar\"}],                        {\"template\":{\"data\":{\"histogram2dcontour\":[{\"type\":\"histogram2dcontour\",\"colorbar\":{\"outlinewidth\":0,\"ticks\":\"\"},\"colorscale\":[[0.0,\"#0d0887\"],[0.1111111111111111,\"#46039f\"],[0.2222222222222222,\"#7201a8\"],[0.3333333333333333,\"#9c179e\"],[0.4444444444444444,\"#bd3786\"],[0.5555555555555556,\"#d8576b\"],[0.6666666666666666,\"#ed7953\"],[0.7777777777777778,\"#fb9f3a\"],[0.8888888888888888,\"#fdca26\"],[1.0,\"#f0f921\"]]}],\"choropleth\":[{\"type\":\"choropleth\",\"colorbar\":{\"outlinewidth\":0,\"ticks\":\"\"}}],\"histogram2d\":[{\"type\":\"histogram2d\",\"colorbar\":{\"outlinewidth\":0,\"ticks\":\"\"},\"colorscale\":[[0.0,\"#0d0887\"],[0.1111111111111111,\"#46039f\"],[0.2222222222222222,\"#7201a8\"],[0.3333333333333333,\"#9c179e\"],[0.4444444444444444,\"#bd3786\"],[0.5555555555555556,\"#d8576b\"],[0.6666666666666666,\"#ed7953\"],[0.7777777777777778,\"#fb9f3a\"],[0.8888888888888888,\"#fdca26\"],[1.0,\"#f0f921\"]]}],\"heatmap\":[{\"type\":\"heatmap\",\"colorbar\":{\"outlinewidth\":0,\"ticks\":\"\"},\"colorscale\":[[0.0,\"#0d0887\"],[0.1111111111111111,\"#46039f\"],[0.2222222222222222,\"#7201a8\"],[0.3333333333333333,\"#9c179e\"],[0.4444444444444444,\"#bd3786\"],[0.5555555555555556,\"#d8576b\"],[0.6666666666666666,\"#ed7953\"],[0.7777777777777778,\"#fb9f3a\"],[0.8888888888888888,\"#fdca26\"],[1.0,\"#f0f921\"]]}],\"heatmapgl\":[{\"type\":\"heatmapgl\",\"colorbar\":{\"outlinewidth\":0,\"ticks\":\"\"},\"colorscale\":[[0.0,\"#0d0887\"],[0.1111111111111111,\"#46039f\"],[0.2222222222222222,\"#7201a8\"],[0.3333333333333333,\"#9c179e\"],[0.4444444444444444,\"#bd3786\"],[0.5555555555555556,\"#d8576b\"],[0.6666666666666666,\"#ed7953\"],[0.7777777777777778,\"#fb9f3a\"],[0.8888888888888888,\"#fdca26\"],[1.0,\"#f0f921\"]]}],\"contourcarpet\":[{\"type\":\"contourcarpet\",\"colorbar\":{\"outlinewidth\":0,\"ticks\":\"\"}}],\"contour\":[{\"type\":\"contour\",\"colorbar\":{\"outlinewidth\":0,\"ticks\":\"\"},\"colorscale\":[[0.0,\"#0d0887\"],[0.1111111111111111,\"#46039f\"],[0.2222222222222222,\"#7201a8\"],[0.3333333333333333,\"#9c179e\"],[0.4444444444444444,\"#bd3786\"],[0.5555555555555556,\"#d8576b\"],[0.6666666666666666,\"#ed7953\"],[0.7777777777777778,\"#fb9f3a\"],[0.8888888888888888,\"#fdca26\"],[1.0,\"#f0f921\"]]}],\"surface\":[{\"type\":\"surface\",\"colorbar\":{\"outlinewidth\":0,\"ticks\":\"\"},\"colorscale\":[[0.0,\"#0d0887\"],[0.1111111111111111,\"#46039f\"],[0.2222222222222222,\"#7201a8\"],[0.3333333333333333,\"#9c179e\"],[0.4444444444444444,\"#bd3786\"],[0.5555555555555556,\"#d8576b\"],[0.6666666666666666,\"#ed7953\"],[0.7777777777777778,\"#fb9f3a\"],[0.8888888888888888,\"#fdca26\"],[1.0,\"#f0f921\"]]}],\"mesh3d\":[{\"type\":\"mesh3d\",\"colorbar\":{\"outlinewidth\":0,\"ticks\":\"\"}}],\"scatter\":[{\"fillpattern\":{\"fillmode\":\"overlay\",\"size\":10,\"solidity\":0.2},\"type\":\"scatter\"}],\"parcoords\":[{\"type\":\"parcoords\",\"line\":{\"colorbar\":{\"outlinewidth\":0,\"ticks\":\"\"}}}],\"scatterpolargl\":[{\"type\":\"scatterpolargl\",\"marker\":{\"colorbar\":{\"outlinewidth\":0,\"ticks\":\"\"}}}],\"bar\":[{\"error_x\":{\"color\":\"#2a3f5f\"},\"error_y\":{\"color\":\"#2a3f5f\"},\"marker\":{\"line\":{\"color\":\"#E5ECF6\",\"width\":0.5},\"pattern\":{\"fillmode\":\"overlay\",\"size\":10,\"solidity\":0.2}},\"type\":\"bar\"}],\"scattergeo\":[{\"type\":\"scattergeo\",\"marker\":{\"colorbar\":{\"outlinewidth\":0,\"ticks\":\"\"}}}],\"scatterpolar\":[{\"type\":\"scatterpolar\",\"marker\":{\"colorbar\":{\"outlinewidth\":0,\"ticks\":\"\"}}}],\"histogram\":[{\"marker\":{\"pattern\":{\"fillmode\":\"overlay\",\"size\":10,\"solidity\":0.2}},\"type\":\"histogram\"}],\"scattergl\":[{\"type\":\"scattergl\",\"marker\":{\"colorbar\":{\"outlinewidth\":0,\"ticks\":\"\"}}}],\"scatter3d\":[{\"type\":\"scatter3d\",\"line\":{\"colorbar\":{\"outlinewidth\":0,\"ticks\":\"\"}},\"marker\":{\"colorbar\":{\"outlinewidth\":0,\"ticks\":\"\"}}}],\"scattermapbox\":[{\"type\":\"scattermapbox\",\"marker\":{\"colorbar\":{\"outlinewidth\":0,\"ticks\":\"\"}}}],\"scatterternary\":[{\"type\":\"scatterternary\",\"marker\":{\"colorbar\":{\"outlinewidth\":0,\"ticks\":\"\"}}}],\"scattercarpet\":[{\"type\":\"scattercarpet\",\"marker\":{\"colorbar\":{\"outlinewidth\":0,\"ticks\":\"\"}}}],\"carpet\":[{\"aaxis\":{\"endlinecolor\":\"#2a3f5f\",\"gridcolor\":\"white\",\"linecolor\":\"white\",\"minorgridcolor\":\"white\",\"startlinecolor\":\"#2a3f5f\"},\"baxis\":{\"endlinecolor\":\"#2a3f5f\",\"gridcolor\":\"white\",\"linecolor\":\"white\",\"minorgridcolor\":\"white\",\"startlinecolor\":\"#2a3f5f\"},\"type\":\"carpet\"}],\"table\":[{\"cells\":{\"fill\":{\"color\":\"#EBF0F8\"},\"line\":{\"color\":\"white\"}},\"header\":{\"fill\":{\"color\":\"#C8D4E3\"},\"line\":{\"color\":\"white\"}},\"type\":\"table\"}],\"barpolar\":[{\"marker\":{\"line\":{\"color\":\"#E5ECF6\",\"width\":0.5},\"pattern\":{\"fillmode\":\"overlay\",\"size\":10,\"solidity\":0.2}},\"type\":\"barpolar\"}],\"pie\":[{\"automargin\":true,\"type\":\"pie\"}]},\"layout\":{\"autotypenumbers\":\"strict\",\"colorway\":[\"#636efa\",\"#EF553B\",\"#00cc96\",\"#ab63fa\",\"#FFA15A\",\"#19d3f3\",\"#FF6692\",\"#B6E880\",\"#FF97FF\",\"#FECB52\"],\"font\":{\"color\":\"#2a3f5f\"},\"hovermode\":\"closest\",\"hoverlabel\":{\"align\":\"left\"},\"paper_bgcolor\":\"white\",\"plot_bgcolor\":\"#E5ECF6\",\"polar\":{\"bgcolor\":\"#E5ECF6\",\"angularaxis\":{\"gridcolor\":\"white\",\"linecolor\":\"white\",\"ticks\":\"\"},\"radialaxis\":{\"gridcolor\":\"white\",\"linecolor\":\"white\",\"ticks\":\"\"}},\"ternary\":{\"bgcolor\":\"#E5ECF6\",\"aaxis\":{\"gridcolor\":\"white\",\"linecolor\":\"white\",\"ticks\":\"\"},\"baxis\":{\"gridcolor\":\"white\",\"linecolor\":\"white\",\"ticks\":\"\"},\"caxis\":{\"gridcolor\":\"white\",\"linecolor\":\"white\",\"ticks\":\"\"}},\"coloraxis\":{\"colorbar\":{\"outlinewidth\":0,\"ticks\":\"\"}},\"colorscale\":{\"sequential\":[[0.0,\"#0d0887\"],[0.1111111111111111,\"#46039f\"],[0.2222222222222222,\"#7201a8\"],[0.3333333333333333,\"#9c179e\"],[0.4444444444444444,\"#bd3786\"],[0.5555555555555556,\"#d8576b\"],[0.6666666666666666,\"#ed7953\"],[0.7777777777777778,\"#fb9f3a\"],[0.8888888888888888,\"#fdca26\"],[1.0,\"#f0f921\"]],\"sequentialminus\":[[0.0,\"#0d0887\"],[0.1111111111111111,\"#46039f\"],[0.2222222222222222,\"#7201a8\"],[0.3333333333333333,\"#9c179e\"],[0.4444444444444444,\"#bd3786\"],[0.5555555555555556,\"#d8576b\"],[0.6666666666666666,\"#ed7953\"],[0.7777777777777778,\"#fb9f3a\"],[0.8888888888888888,\"#fdca26\"],[1.0,\"#f0f921\"]],\"diverging\":[[0,\"#8e0152\"],[0.1,\"#c51b7d\"],[0.2,\"#de77ae\"],[0.3,\"#f1b6da\"],[0.4,\"#fde0ef\"],[0.5,\"#f7f7f7\"],[0.6,\"#e6f5d0\"],[0.7,\"#b8e186\"],[0.8,\"#7fbc41\"],[0.9,\"#4d9221\"],[1,\"#276419\"]]},\"xaxis\":{\"gridcolor\":\"white\",\"linecolor\":\"white\",\"ticks\":\"\",\"title\":{\"standoff\":15},\"zerolinecolor\":\"white\",\"automargin\":true,\"zerolinewidth\":2},\"yaxis\":{\"gridcolor\":\"white\",\"linecolor\":\"white\",\"ticks\":\"\",\"title\":{\"standoff\":15},\"zerolinecolor\":\"white\",\"automargin\":true,\"zerolinewidth\":2},\"scene\":{\"xaxis\":{\"backgroundcolor\":\"#E5ECF6\",\"gridcolor\":\"white\",\"linecolor\":\"white\",\"showbackground\":true,\"ticks\":\"\",\"zerolinecolor\":\"white\",\"gridwidth\":2},\"yaxis\":{\"backgroundcolor\":\"#E5ECF6\",\"gridcolor\":\"white\",\"linecolor\":\"white\",\"showbackground\":true,\"ticks\":\"\",\"zerolinecolor\":\"white\",\"gridwidth\":2},\"zaxis\":{\"backgroundcolor\":\"#E5ECF6\",\"gridcolor\":\"white\",\"linecolor\":\"white\",\"showbackground\":true,\"ticks\":\"\",\"zerolinecolor\":\"white\",\"gridwidth\":2}},\"shapedefaults\":{\"line\":{\"color\":\"#2a3f5f\"}},\"annotationdefaults\":{\"arrowcolor\":\"#2a3f5f\",\"arrowhead\":0,\"arrowwidth\":1},\"geo\":{\"bgcolor\":\"white\",\"landcolor\":\"#E5ECF6\",\"subunitcolor\":\"white\",\"showland\":true,\"showlakes\":true,\"lakecolor\":\"white\"},\"title\":{\"x\":0.05},\"mapbox\":{\"style\":\"light\"}}},\"xaxis\":{\"anchor\":\"y\",\"domain\":[0.0,1.0],\"title\":{\"text\":\"region_id\"},\"categoryorder\":\"total descending\",\"categoryarray\":[\"LCN\",\"SAS\",\"SSF\",\"ECS\",\"MEA\",\"EAS\",\"NAC\"]},\"yaxis\":{\"anchor\":\"x\",\"domain\":[0.0,1.0],\"title\":{\"text\":\"composition_plastic_percent\"}},\"legend\":{\"title\":{\"text\":\"region_id\"},\"tracegroupgap\":0},\"margin\":{\"t\":60},\"barmode\":\"stack\",\"title\":{\"text\":\"Which region has the highest compostion of plastic\"}},                        {\"responsive\": true}                    ).then(function(){\n                            \nvar gd = document.getElementById('c303ea4c-404d-4482-b0fc-21077c9003b3');\nvar x = new MutationObserver(function (mutations, observer) {{\n        var display = window.getComputedStyle(gd).display;\n        if (!display || display === 'none') {{\n            console.log([gd, 'removed!']);\n            Plotly.purge(gd);\n            observer.disconnect();\n        }}\n}});\n\n// Listen for the removal of the full notebook cells\nvar notebookContainer = gd.closest('#notebook-container');\nif (notebookContainer) {{\n    x.observe(notebookContainer, {childList: true});\n}}\n\n// Listen for the clearing of the current output cell\nvar outputEl = gd.closest('.output');\nif (outputEl) {{\n    x.observe(outputEl, {childList: true});\n}}\n\n                        })                };                            </script>        </div>\n</body>\n</html>"
     },
     "execution_count": 24,
     "metadata": {
     },
     "output_type": "execute_result"
    }
   ],
   "source": [
    "fig = px.bar(my_dataset, y='composition_plastic_percent', x='region_id', color =\"region_id\", hover_data = ['country_name'])\n",
    "fig.update_layout(barmode='stack', xaxis={'categoryorder':'total descending'}, title = 'Which region has the highest compostion of plastic')\n",
    "\n",
    "fig.show()"
   ]
  },
  {
   "cell_type": "markdown",
   "metadata": {
    "collapsed": false
   },
   "source": [
    "The Region that produces the most amount of composition plastic is ECS. The ECS includes the following countries Austria, Belgium, Czech Republic, Denmark, Estonia, Finland, France, Germany, Greece, Hungary, Ireland, Italy, Luxembourg, the Netherlands, Norway, Poland, Portugal, Romania, Spain, Sweden, Switzerland and the United Kingdom.\n",
    "\n"
   ]
  },
  {
   "cell_type": "code",
   "execution_count": 8,
   "metadata": {
    "collapsed": false
   },
   "outputs": [
    {
     "data": {
      "text/html": "<html>\n<head><meta charset=\"utf-8\" /></head>\n<body>\n    <div>            <script src=\"https://cdnjs.cloudflare.com/ajax/libs/mathjax/2.7.5/MathJax.js?config=TeX-AMS-MML_SVG\"></script><script type=\"text/javascript\">if (window.MathJax && window.MathJax.Hub && window.MathJax.Hub.Config) {window.MathJax.Hub.Config({SVG: {font: \"STIX-Web\"}});}</script>                <script type=\"text/javascript\">window.PlotlyConfig = {MathJaxConfig: 'local'};</script>\n        <script src=\"https://cdn.plot.ly/plotly-2.16.1.min.js\"></script>                <div id=\"b1bb4f4f-92a6-4eef-95df-eded98cae576\" class=\"plotly-graph-div\" style=\"height:525px; width:100%;\"></div>            <script type=\"text/javascript\">                                    window.PLOTLYENV=window.PLOTLYENV || {};                                    if (document.getElementById(\"b1bb4f4f-92a6-4eef-95df-eded98cae576\")) {                    Plotly.newPlot(                        \"b1bb4f4f-92a6-4eef-95df-eded98cae576\",                        [{\"alignmentgroup\":\"True\",\"hovertemplate\":\"variable=Glass Percentage<br>country_name=%{x}<br>value=%{y}<extra></extra>\",\"legendgroup\":\"Glass Percentage\",\"marker\":{\"color\":\"aqua\",\"pattern\":{\"shape\":\"\"}},\"name\":\"Glass Percentage\",\"offsetgroup\":\"composition_glass_percent\",\"orientation\":\"v\",\"showlegend\":true,\"textposition\":\"auto\",\"x\":[\"Aruba\",\"Afghanistan\",\"Angola\",\"Albania\",\"Andorra\",\"United Arab Emirates\",\"Argentina\",\"Armenia\",\"American Samoa\",\"Antigua and Barbuda\",\"Australia\",\"Austria\",\"Azerbaijan\",\"Burundi\",\"Belgium\",\"Benin\",\"Burkina Faso\",\"Bangladesh\",\"Bulgaria\",\"Bahrain\",\"Bahamas, The\",\"Bosnia and Herzegovina\",\"Belarus\",\"Belize\",\"Bermuda\",\"Bolivia\",\"Brazil\",\"Barbados\",\"Brunei Darussalam\",\"Bhutan\",\"Botswana\",\"Central African Republic\",\"Canada\",\"Switzerland\",\"Channel Islands\",\"Chile\",\"China\",\"C\\u00f4te d\\u2019Ivoire\",\"Cameroon\",\"Congo, Dem. Rep.\",\"Congo, Rep.\",\"Colombia\",\"Comoros\",\"Cabo Verde\",\"Costa Rica\",\"Cuba\",\"Curacao\",\"Cayman Islands\",\"Cyprus\",\"Czech Republic\",\"Germany\",\"Djibouti\",\"Dominica\",\"Denmark\",\"Dominican Republic\",\"Algeria\",\"Ecuador\",\"Egypt, Arab Rep.\",\"Eritrea\",\"Spain\",\"Estonia\",\"Ethiopia\",\"Finland\",\"Fiji\",\"France\",\"Faeroe Islands\",\"Micronesia, Fed. Sts.\",\"Gabon\",\"United Kingdom\",\"Georgia\",\"Ghana\",\"Gibraltar\",\"Guinea\",\"Gambia, The\",\"Guinea-Bissau\",\"Equatorial Guinea\",\"Greece\",\"Grenada\",\"Greenland\",\"Guatemala\",\"Guam\",\"Guyana\",\"Hong Kong SAR, China\",\"Honduras\",\"Croatia\",\"Haiti\",\"Hungary\",\"Indonesia\",\"Isle of Man\",\"India\",\"Ireland\",\"Iran, Islamic Rep.\",\"Iraq\",\"Iceland\",\"Israel\",\"Italy\",\"Jamaica\",\"Jordan\",\"Japan\",\"Kazakhstan\",\"Kenya\",\"Kyrgyz Republic\",\"Cambodia\",\"Kiribati\",\"St. Kitts and Nevis\",\"Korea, Rep.\",\"Kuwait\",\"Lao PDR\",\"Lebanon\",\"Liberia\",\"Libya\",\"St. Lucia\",\"Liechtenstein\",\"Sri Lanka\",\"Lesotho\",\"Lithuania\",\"Luxembourg\",\"Latvia\",\"Macao SAR, China\",\"St. Martin (French part)\",\"Morocco\",\"Monaco\",\"Moldova\",\"Madagascar\",\"Maldives\",\"Mexico\",\"Marshall Islands\",\"Macedonia, FYR\",\"Mali\",\"Malta\",\"Myanmar\",\"Montenegro\",\"Mongolia\",\"Northern Mariana Islands\",\"Mozambique\",\"Mauritania\",\"Mauritius\",\"Malawi\",\"Malaysia\",\"Namibia\",\"New Caledonia\",\"Niger\",\"Nigeria\",\"Nicaragua\",\"Netherlands\",\"Norway\",\"Nepal\",\"Nauru\",\"New Zealand\",\"Oman\",\"Pakistan\",\"Panama\",\"Peru\",\"Philippines\",\"Palau\",\"Papua New Guinea\",\"Poland\",\"Puerto Rico\",\"Portugal\",\"Paraguay\",\"West Bank and Gaza\",\"French Polynesia\",\"Qatar\",\"Romania\",\"Russian Federation\",\"Rwanda\",\"Saudi Arabia\",\"Sudan\",\"Senegal\",\"Singapore\",\"Solomon Islands\",\"Sierra Leone\",\"El Salvador\",\"San Marino\",\"Somalia\",\"Serbia\",\"South Sudan\",\"S\\u00e3o Tom\\u00e9 and Pr\\u00edncipe\",\"Suriname\",\"Slovak Republic\",\"Slovenia\",\"Sweden\",\"Eswatini\",\"Sint Maarten (Dutch part)\",\"Seychelles\",\"Syrian Arab Republic\",\"Turks and Caicos Islands\",\"Chad\",\"Togo\",\"Thailand\",\"Tajikistan\",\"Turkmenistan\",\"Timor-Leste\",\"Tonga\",\"Trinidad and Tobago\",\"Tunisia\",\"Turkey\",\"Tuvalu\",\"Afghanistan\",\"Tanzania\",\"Uganda\",\"Ukraine\",\"Uruguay\",\"United States\",\"Uzbekistan\",\"St. Vincent and the Grenadines\",\"Venezuela, RB\",\"British Virgin Islands\",\"Virgin Islands (U.S.)\",\"Vietnam\",\"Vanuatu\",\"Samoa\",\"Kosovo\",\"Yemen, Rep.\",\"South Africa\",\"Zambia\",\"Zimbabwe\"],\"xaxis\":\"x\",\"y\":[4.0,4.0,6.7,4.5,8.2,4.0,3.16,3.2,3.4,7.0,3.81,7.0,5.28,2.9,3.1,1.6,1.0,0.44,5.83,3.4,7.0,4.0,8.0,8.0,9.0,2.903474903,2.4,3.7,3.0,4.0,4.0,4.0,6.0,4.0,4.0,6.6,2.1,4.0,0.1,4.0,4.0,2.35,2.0,4.0,1.0,4.6,4.0,3.5,2.66,2.4,10.0,4.0,8.0,5.78,6.0,1.2,3.01,4.0,4.0,8.0,8.3,0.8,9.24,4.1,10.0,4.0,7.07,4.0,2.2,3.0,0.0,4.42,1.0,1.9,4.0,4.0,3.0,3.1,7.1,4.39183558,4.6,4.7,3.0,1.27,3.7,1.6,3.5,2.5,4.0,4.0,8.5,1.9,2.3,4.0,3.0,7.6,2.81,2.0,5.0,5.0,3.0,4.0,2.6,5.5,8.1,2.5,4.0,9.3,3.5,4.0,3.1,7.0,5.0,2.0,4.0,8.65,4.0,21.4,3.3,4.0,2.0,3.0,4.0,4.0,4.0,5.9,2.0,4.1,1.0,6.0,4.0,8.97,4.0,5.5,4.0,4.0,2.8,4.0,3.0,4.0,5.5,4.0,3.1,4.0,5.4,4.6,4.36,5.5,4.0,6.0,6.0,5.8,3.05,2.34,5.0,4.0,10.07,2.4,6.73,4.0,2.4,3.0,4.0,4.89,16.82,4.0,4.0,3.5,2.0,0.93,6.65,4.0,4.0,5.61,4.0,5.44,4.0,4.0,3.0,19.0,4.0,9.15,4.0,7.0,5.2,3.0,20.5,1.0,2.0,3.04,4.0,4.64,5.5,5.9,10.15,2.0,2.0,5.5,4.11,4.0,0.8,5.0,3.0,4.4,3.0,5.6,4.0,18.1,7.0,2.18,5.4,2.2,6.0,1.0,5.20021637,4.0,5.0],\"yaxis\":\"y\",\"type\":\"bar\"},{\"alignmentgroup\":\"True\",\"hovertemplate\":\"variable=Metal Percentage<br>country_name=%{x}<br>value=%{y}<extra></extra>\",\"legendgroup\":\"Metal Percentage\",\"marker\":{\"color\":\"red\",\"pattern\":{\"shape\":\"\"}},\"name\":\"Metal Percentage\",\"offsetgroup\":\"composition_metal_percent\",\"orientation\":\"v\",\"showlegend\":true,\"textposition\":\"auto\",\"x\":[\"Aruba\",\"Afghanistan\",\"Angola\",\"Albania\",\"Andorra\",\"United Arab Emirates\",\"Argentina\",\"Armenia\",\"American Samoa\",\"Antigua and Barbuda\",\"Australia\",\"Austria\",\"Azerbaijan\",\"Burundi\",\"Belgium\",\"Benin\",\"Burkina Faso\",\"Bangladesh\",\"Bulgaria\",\"Bahrain\",\"Bahamas, The\",\"Bosnia and Herzegovina\",\"Belarus\",\"Belize\",\"Bermuda\",\"Bolivia\",\"Brazil\",\"Barbados\",\"Brunei Darussalam\",\"Bhutan\",\"Botswana\",\"Central African Republic\",\"Canada\",\"Switzerland\",\"Channel Islands\",\"Chile\",\"China\",\"C\\u00f4te d\\u2019Ivoire\",\"Cameroon\",\"Congo, Dem. Rep.\",\"Congo, Rep.\",\"Colombia\",\"Comoros\",\"Cabo Verde\",\"Costa Rica\",\"Cuba\",\"Curacao\",\"Cayman Islands\",\"Cyprus\",\"Czech Republic\",\"Germany\",\"Djibouti\",\"Dominica\",\"Denmark\",\"Dominican Republic\",\"Algeria\",\"Ecuador\",\"Egypt, Arab Rep.\",\"Eritrea\",\"Spain\",\"Estonia\",\"Ethiopia\",\"Finland\",\"Fiji\",\"France\",\"Faeroe Islands\",\"Micronesia, Fed. Sts.\",\"Gabon\",\"United Kingdom\",\"Georgia\",\"Ghana\",\"Gibraltar\",\"Guinea\",\"Gambia, The\",\"Guinea-Bissau\",\"Equatorial Guinea\",\"Greece\",\"Grenada\",\"Greenland\",\"Guatemala\",\"Guam\",\"Guyana\",\"Hong Kong SAR, China\",\"Honduras\",\"Croatia\",\"Haiti\",\"Hungary\",\"Indonesia\",\"Isle of Man\",\"India\",\"Ireland\",\"Iran, Islamic Rep.\",\"Iraq\",\"Iceland\",\"Israel\",\"Italy\",\"Jamaica\",\"Jordan\",\"Japan\",\"Kazakhstan\",\"Kenya\",\"Kyrgyz Republic\",\"Cambodia\",\"Kiribati\",\"St. Kitts and Nevis\",\"Korea, Rep.\",\"Kuwait\",\"Lao PDR\",\"Lebanon\",\"Liberia\",\"Libya\",\"St. Lucia\",\"Liechtenstein\",\"Sri Lanka\",\"Lesotho\",\"Lithuania\",\"Luxembourg\",\"Latvia\",\"Macao SAR, China\",\"St. Martin (French part)\",\"Morocco\",\"Monaco\",\"Moldova\",\"Madagascar\",\"Maldives\",\"Mexico\",\"Marshall Islands\",\"Macedonia, FYR\",\"Mali\",\"Malta\",\"Myanmar\",\"Montenegro\",\"Mongolia\",\"Northern Mariana Islands\",\"Mozambique\",\"Mauritania\",\"Mauritius\",\"Malawi\",\"Malaysia\",\"Namibia\",\"New Caledonia\",\"Niger\",\"Nigeria\",\"Nicaragua\",\"Netherlands\",\"Norway\",\"Nepal\",\"Nauru\",\"New Zealand\",\"Oman\",\"Pakistan\",\"Panama\",\"Peru\",\"Philippines\",\"Palau\",\"Papua New Guinea\",\"Poland\",\"Puerto Rico\",\"Portugal\",\"Paraguay\",\"West Bank and Gaza\",\"French Polynesia\",\"Qatar\",\"Romania\",\"Russian Federation\",\"Rwanda\",\"Saudi Arabia\",\"Sudan\",\"Senegal\",\"Singapore\",\"Solomon Islands\",\"Sierra Leone\",\"El Salvador\",\"San Marino\",\"Somalia\",\"Serbia\",\"South Sudan\",\"S\\u00e3o Tom\\u00e9 and Pr\\u00edncipe\",\"Suriname\",\"Slovak Republic\",\"Slovenia\",\"Sweden\",\"Eswatini\",\"Sint Maarten (Dutch part)\",\"Seychelles\",\"Syrian Arab Republic\",\"Turks and Caicos Islands\",\"Chad\",\"Togo\",\"Thailand\",\"Tajikistan\",\"Turkmenistan\",\"Timor-Leste\",\"Tonga\",\"Trinidad and Tobago\",\"Tunisia\",\"Turkey\",\"Tuvalu\",\"Afghanistan\",\"Tanzania\",\"Uganda\",\"Ukraine\",\"Uruguay\",\"United States\",\"Uzbekistan\",\"St. Vincent and the Grenadines\",\"Venezuela, RB\",\"British Virgin Islands\",\"Virgin Islands (U.S.)\",\"Vietnam\",\"Vanuatu\",\"Samoa\",\"Kosovo\",\"Yemen, Rep.\",\"South Africa\",\"Zambia\",\"Zimbabwe\"],\"xaxis\":\"x\",\"y\":[3.0,3.0,4.4,4.8,2.6,3.0,1.84,3.4,7.9,7.0,19.38,4.4,3.49,2.1,1.91,1.6,1.0,0.5,1.98,2.1,7.0,3.0,2.0,5.0,6.0,2.501930502,2.9,4.9,4.0,1.0,0.1,3.0,13.0,3.0,3.0,2.3,1.1,3.0,0.7,3.0,3.0,1.1,4.0,3.0,2.0,1.6,3.0,6.2,3.25,8.4,1.4,3.0,5.0,6.29,3.0,2.8,1.53,2.0,3.0,3.0,2.6,1.2,1.7,1.9,3.0,3.0,16.73,3.0,3.5,5.0,1.0,4.37,1.0,2.1,3.0,3.0,3.0,2.4,2.0,3.0,9.0,4.2,2.0,2.11,2.1,2.5,1.8,1.8,3.0,3.0,3.7,2.3,0.98,3.0,3.0,4.3,2.38,1.5,4.0,3.0,1.0,3.0,2.0,10.0,8.8,2.6,2.0,3.7,5.5,3.0,4.3,5.0,12.5,3.0,3.0,2.75,2.0,2.6,1.7,3.0,2.5,2.2,3.0,3.0,1.0,3.4,6.0,2.5,3.5,4.0,3.0,2.9,3.0,10.0,3.0,4.2,3.0,3.0,3.0,3.0,10.0,1.0,3.0,3.0,4.3,6.12,1.9,10.0,4.5,3.0,4.0,3.8,2.64,4.22,10.0,3.0,2.17,10.4,1.85,3.0,2.7,3.0,9.0,2.5,1.83,3.0,5.0,1.7,2.0,19.12,13.15,3.0,2.0,0.9,3.0,1.38,3.0,3.0,3.0,2.0,3.0,9.2,3.0,7.0,4.6,4.0,7.6,2.0,4.0,1.85,3.0,11.44,10.0,9.0,3.74,4.0,1.0,10.0,3.07,3.0,0.6,4.0,5.0,9.0,2.0,3.8,3.0,8.6,7.0,0.58,3.8,8.8,6.0,6.0,16.9104609,3.0,6.0],\"yaxis\":\"y\",\"type\":\"bar\"}],                        {\"template\":{\"data\":{\"histogram2dcontour\":[{\"type\":\"histogram2dcontour\",\"colorbar\":{\"outlinewidth\":0,\"ticks\":\"\"},\"colorscale\":[[0.0,\"#0d0887\"],[0.1111111111111111,\"#46039f\"],[0.2222222222222222,\"#7201a8\"],[0.3333333333333333,\"#9c179e\"],[0.4444444444444444,\"#bd3786\"],[0.5555555555555556,\"#d8576b\"],[0.6666666666666666,\"#ed7953\"],[0.7777777777777778,\"#fb9f3a\"],[0.8888888888888888,\"#fdca26\"],[1.0,\"#f0f921\"]]}],\"choropleth\":[{\"type\":\"choropleth\",\"colorbar\":{\"outlinewidth\":0,\"ticks\":\"\"}}],\"histogram2d\":[{\"type\":\"histogram2d\",\"colorbar\":{\"outlinewidth\":0,\"ticks\":\"\"},\"colorscale\":[[0.0,\"#0d0887\"],[0.1111111111111111,\"#46039f\"],[0.2222222222222222,\"#7201a8\"],[0.3333333333333333,\"#9c179e\"],[0.4444444444444444,\"#bd3786\"],[0.5555555555555556,\"#d8576b\"],[0.6666666666666666,\"#ed7953\"],[0.7777777777777778,\"#fb9f3a\"],[0.8888888888888888,\"#fdca26\"],[1.0,\"#f0f921\"]]}],\"heatmap\":[{\"type\":\"heatmap\",\"colorbar\":{\"outlinewidth\":0,\"ticks\":\"\"},\"colorscale\":[[0.0,\"#0d0887\"],[0.1111111111111111,\"#46039f\"],[0.2222222222222222,\"#7201a8\"],[0.3333333333333333,\"#9c179e\"],[0.4444444444444444,\"#bd3786\"],[0.5555555555555556,\"#d8576b\"],[0.6666666666666666,\"#ed7953\"],[0.7777777777777778,\"#fb9f3a\"],[0.8888888888888888,\"#fdca26\"],[1.0,\"#f0f921\"]]}],\"heatmapgl\":[{\"type\":\"heatmapgl\",\"colorbar\":{\"outlinewidth\":0,\"ticks\":\"\"},\"colorscale\":[[0.0,\"#0d0887\"],[0.1111111111111111,\"#46039f\"],[0.2222222222222222,\"#7201a8\"],[0.3333333333333333,\"#9c179e\"],[0.4444444444444444,\"#bd3786\"],[0.5555555555555556,\"#d8576b\"],[0.6666666666666666,\"#ed7953\"],[0.7777777777777778,\"#fb9f3a\"],[0.8888888888888888,\"#fdca26\"],[1.0,\"#f0f921\"]]}],\"contourcarpet\":[{\"type\":\"contourcarpet\",\"colorbar\":{\"outlinewidth\":0,\"ticks\":\"\"}}],\"contour\":[{\"type\":\"contour\",\"colorbar\":{\"outlinewidth\":0,\"ticks\":\"\"},\"colorscale\":[[0.0,\"#0d0887\"],[0.1111111111111111,\"#46039f\"],[0.2222222222222222,\"#7201a8\"],[0.3333333333333333,\"#9c179e\"],[0.4444444444444444,\"#bd3786\"],[0.5555555555555556,\"#d8576b\"],[0.6666666666666666,\"#ed7953\"],[0.7777777777777778,\"#fb9f3a\"],[0.8888888888888888,\"#fdca26\"],[1.0,\"#f0f921\"]]}],\"surface\":[{\"type\":\"surface\",\"colorbar\":{\"outlinewidth\":0,\"ticks\":\"\"},\"colorscale\":[[0.0,\"#0d0887\"],[0.1111111111111111,\"#46039f\"],[0.2222222222222222,\"#7201a8\"],[0.3333333333333333,\"#9c179e\"],[0.4444444444444444,\"#bd3786\"],[0.5555555555555556,\"#d8576b\"],[0.6666666666666666,\"#ed7953\"],[0.7777777777777778,\"#fb9f3a\"],[0.8888888888888888,\"#fdca26\"],[1.0,\"#f0f921\"]]}],\"mesh3d\":[{\"type\":\"mesh3d\",\"colorbar\":{\"outlinewidth\":0,\"ticks\":\"\"}}],\"scatter\":[{\"fillpattern\":{\"fillmode\":\"overlay\",\"size\":10,\"solidity\":0.2},\"type\":\"scatter\"}],\"parcoords\":[{\"type\":\"parcoords\",\"line\":{\"colorbar\":{\"outlinewidth\":0,\"ticks\":\"\"}}}],\"scatterpolargl\":[{\"type\":\"scatterpolargl\",\"marker\":{\"colorbar\":{\"outlinewidth\":0,\"ticks\":\"\"}}}],\"bar\":[{\"error_x\":{\"color\":\"#2a3f5f\"},\"error_y\":{\"color\":\"#2a3f5f\"},\"marker\":{\"line\":{\"color\":\"#E5ECF6\",\"width\":0.5},\"pattern\":{\"fillmode\":\"overlay\",\"size\":10,\"solidity\":0.2}},\"type\":\"bar\"}],\"scattergeo\":[{\"type\":\"scattergeo\",\"marker\":{\"colorbar\":{\"outlinewidth\":0,\"ticks\":\"\"}}}],\"scatterpolar\":[{\"type\":\"scatterpolar\",\"marker\":{\"colorbar\":{\"outlinewidth\":0,\"ticks\":\"\"}}}],\"histogram\":[{\"marker\":{\"pattern\":{\"fillmode\":\"overlay\",\"size\":10,\"solidity\":0.2}},\"type\":\"histogram\"}],\"scattergl\":[{\"type\":\"scattergl\",\"marker\":{\"colorbar\":{\"outlinewidth\":0,\"ticks\":\"\"}}}],\"scatter3d\":[{\"type\":\"scatter3d\",\"line\":{\"colorbar\":{\"outlinewidth\":0,\"ticks\":\"\"}},\"marker\":{\"colorbar\":{\"outlinewidth\":0,\"ticks\":\"\"}}}],\"scattermapbox\":[{\"type\":\"scattermapbox\",\"marker\":{\"colorbar\":{\"outlinewidth\":0,\"ticks\":\"\"}}}],\"scatterternary\":[{\"type\":\"scatterternary\",\"marker\":{\"colorbar\":{\"outlinewidth\":0,\"ticks\":\"\"}}}],\"scattercarpet\":[{\"type\":\"scattercarpet\",\"marker\":{\"colorbar\":{\"outlinewidth\":0,\"ticks\":\"\"}}}],\"carpet\":[{\"aaxis\":{\"endlinecolor\":\"#2a3f5f\",\"gridcolor\":\"white\",\"linecolor\":\"white\",\"minorgridcolor\":\"white\",\"startlinecolor\":\"#2a3f5f\"},\"baxis\":{\"endlinecolor\":\"#2a3f5f\",\"gridcolor\":\"white\",\"linecolor\":\"white\",\"minorgridcolor\":\"white\",\"startlinecolor\":\"#2a3f5f\"},\"type\":\"carpet\"}],\"table\":[{\"cells\":{\"fill\":{\"color\":\"#EBF0F8\"},\"line\":{\"color\":\"white\"}},\"header\":{\"fill\":{\"color\":\"#C8D4E3\"},\"line\":{\"color\":\"white\"}},\"type\":\"table\"}],\"barpolar\":[{\"marker\":{\"line\":{\"color\":\"#E5ECF6\",\"width\":0.5},\"pattern\":{\"fillmode\":\"overlay\",\"size\":10,\"solidity\":0.2}},\"type\":\"barpolar\"}],\"pie\":[{\"automargin\":true,\"type\":\"pie\"}]},\"layout\":{\"autotypenumbers\":\"strict\",\"colorway\":[\"#636efa\",\"#EF553B\",\"#00cc96\",\"#ab63fa\",\"#FFA15A\",\"#19d3f3\",\"#FF6692\",\"#B6E880\",\"#FF97FF\",\"#FECB52\"],\"font\":{\"color\":\"#2a3f5f\"},\"hovermode\":\"closest\",\"hoverlabel\":{\"align\":\"left\"},\"paper_bgcolor\":\"white\",\"plot_bgcolor\":\"#E5ECF6\",\"polar\":{\"bgcolor\":\"#E5ECF6\",\"angularaxis\":{\"gridcolor\":\"white\",\"linecolor\":\"white\",\"ticks\":\"\"},\"radialaxis\":{\"gridcolor\":\"white\",\"linecolor\":\"white\",\"ticks\":\"\"}},\"ternary\":{\"bgcolor\":\"#E5ECF6\",\"aaxis\":{\"gridcolor\":\"white\",\"linecolor\":\"white\",\"ticks\":\"\"},\"baxis\":{\"gridcolor\":\"white\",\"linecolor\":\"white\",\"ticks\":\"\"},\"caxis\":{\"gridcolor\":\"white\",\"linecolor\":\"white\",\"ticks\":\"\"}},\"coloraxis\":{\"colorbar\":{\"outlinewidth\":0,\"ticks\":\"\"}},\"colorscale\":{\"sequential\":[[0.0,\"#0d0887\"],[0.1111111111111111,\"#46039f\"],[0.2222222222222222,\"#7201a8\"],[0.3333333333333333,\"#9c179e\"],[0.4444444444444444,\"#bd3786\"],[0.5555555555555556,\"#d8576b\"],[0.6666666666666666,\"#ed7953\"],[0.7777777777777778,\"#fb9f3a\"],[0.8888888888888888,\"#fdca26\"],[1.0,\"#f0f921\"]],\"sequentialminus\":[[0.0,\"#0d0887\"],[0.1111111111111111,\"#46039f\"],[0.2222222222222222,\"#7201a8\"],[0.3333333333333333,\"#9c179e\"],[0.4444444444444444,\"#bd3786\"],[0.5555555555555556,\"#d8576b\"],[0.6666666666666666,\"#ed7953\"],[0.7777777777777778,\"#fb9f3a\"],[0.8888888888888888,\"#fdca26\"],[1.0,\"#f0f921\"]],\"diverging\":[[0,\"#8e0152\"],[0.1,\"#c51b7d\"],[0.2,\"#de77ae\"],[0.3,\"#f1b6da\"],[0.4,\"#fde0ef\"],[0.5,\"#f7f7f7\"],[0.6,\"#e6f5d0\"],[0.7,\"#b8e186\"],[0.8,\"#7fbc41\"],[0.9,\"#4d9221\"],[1,\"#276419\"]]},\"xaxis\":{\"gridcolor\":\"white\",\"linecolor\":\"white\",\"ticks\":\"\",\"title\":{\"standoff\":15},\"zerolinecolor\":\"white\",\"automargin\":true,\"zerolinewidth\":2},\"yaxis\":{\"gridcolor\":\"white\",\"linecolor\":\"white\",\"ticks\":\"\",\"title\":{\"standoff\":15},\"zerolinecolor\":\"white\",\"automargin\":true,\"zerolinewidth\":2},\"scene\":{\"xaxis\":{\"backgroundcolor\":\"#E5ECF6\",\"gridcolor\":\"white\",\"linecolor\":\"white\",\"showbackground\":true,\"ticks\":\"\",\"zerolinecolor\":\"white\",\"gridwidth\":2},\"yaxis\":{\"backgroundcolor\":\"#E5ECF6\",\"gridcolor\":\"white\",\"linecolor\":\"white\",\"showbackground\":true,\"ticks\":\"\",\"zerolinecolor\":\"white\",\"gridwidth\":2},\"zaxis\":{\"backgroundcolor\":\"#E5ECF6\",\"gridcolor\":\"white\",\"linecolor\":\"white\",\"showbackground\":true,\"ticks\":\"\",\"zerolinecolor\":\"white\",\"gridwidth\":2}},\"shapedefaults\":{\"line\":{\"color\":\"#2a3f5f\"}},\"annotationdefaults\":{\"arrowcolor\":\"#2a3f5f\",\"arrowhead\":0,\"arrowwidth\":1},\"geo\":{\"bgcolor\":\"white\",\"landcolor\":\"#E5ECF6\",\"subunitcolor\":\"white\",\"showland\":true,\"showlakes\":true,\"lakecolor\":\"white\"},\"title\":{\"x\":0.05},\"mapbox\":{\"style\":\"light\"}}},\"xaxis\":{\"anchor\":\"y\",\"domain\":[0.0,1.0],\"title\":{\"text\":\"country_name\"},\"categoryorder\":\"total descending\"},\"yaxis\":{\"anchor\":\"x\",\"domain\":[0.0,1.0],\"title\":{\"text\":\"value\"}},\"legend\":{\"title\":{\"text\":\"variable\"},\"tracegroupgap\":0},\"title\":{\"text\":\"Metal to Plastic Waste Percentage\"},\"barmode\":\"stack\"},                        {\"responsive\": true}                    ).then(function(){\n                            \nvar gd = document.getElementById('b1bb4f4f-92a6-4eef-95df-eded98cae576');\nvar x = new MutationObserver(function (mutations, observer) {{\n        var display = window.getComputedStyle(gd).display;\n        if (!display || display === 'none') {{\n            console.log([gd, 'removed!']);\n            Plotly.purge(gd);\n            observer.disconnect();\n        }}\n}});\n\n// Listen for the removal of the full notebook cells\nvar notebookContainer = gd.closest('#notebook-container');\nif (notebookContainer) {{\n    x.observe(notebookContainer, {childList: true});\n}}\n\n// Listen for the clearing of the current output cell\nvar outputEl = gd.closest('.output');\nif (outputEl) {{\n    x.observe(outputEl, {childList: true});\n}}\n\n                        })                };                            </script>        </div>\n</body>\n</html>"
     },
     "execution_count": 8,
     "metadata": {
     },
     "output_type": "execute_result"
    }
   ],
   "source": [
    "#hypothesis: There is more glass waste than metal waste in most countries. - Tony\n",
    "import plotly.express as px\n",
    "fig = px.bar(my_dataset, x = \"country_name\", y = [\"composition_glass_percent\", \"composition_metal_percent\"], title = \"Metal to Plastic Waste Percentage\", color_discrete_map={\"composition_glass_percent\":\"azure\", \"composition_metal_percent\":\"crimson\"})\n",
    "fig.update_layout(barmode='stack', xaxis={'categoryorder':'total descending'})\n",
    "newnames = {'composition_glass_percent':'Glass Percentage', 'composition_metal_percent': 'Metal Percentage'}\n",
    "fig.for_each_trace(lambda t: t.update(name = newnames[t.name],\n",
    "                                      legendgroup = newnames[t.name],\n",
    "                                      hovertemplate = t.hovertemplate.replace(t.name, newnames[t.name])\n",
    "                                     )\n",
    "                  )\n",
    "fig.show()\n",
    "\n",
    "\n",
    "# color_discrete_map= {'Coal': 'black',\n",
    "#                                       'Oil': 'grey',\n",
    "#                                       'Gas': 'blue'}"
   ]
  },
  {
   "cell_type": "code",
   "execution_count": 38,
   "metadata": {
    "collapsed": false
   },
   "outputs": [
   ],
   "source": [
    "#Conclusion: Glass waste is more common than metal waste among most countries."
   ]
  },
  {
   "cell_type": "code",
   "execution_count": 29,
   "metadata": {
    "collapsed": false
   },
   "outputs": [
    {
     "data": {
      "text/html": "<html>\n<head><meta charset=\"utf-8\" /></head>\n<body>\n    <div>            <script src=\"https://cdnjs.cloudflare.com/ajax/libs/mathjax/2.7.5/MathJax.js?config=TeX-AMS-MML_SVG\"></script><script type=\"text/javascript\">if (window.MathJax && window.MathJax.Hub && window.MathJax.Hub.Config) {window.MathJax.Hub.Config({SVG: {font: \"STIX-Web\"}});}</script>                <script type=\"text/javascript\">window.PlotlyConfig = {MathJaxConfig: 'local'};</script>\n        <script src=\"https://cdn.plot.ly/plotly-2.16.1.min.js\"></script>                <div id=\"2058c794-9195-4920-9a59-f9b1527c7f73\" class=\"plotly-graph-div\" style=\"height:525px; width:100%;\"></div>            <script type=\"text/javascript\">                                    window.PLOTLYENV=window.PLOTLYENV || {};                                    if (document.getElementById(\"2058c794-9195-4920-9a59-f9b1527c7f73\")) {                    Plotly.newPlot(                        \"2058c794-9195-4920-9a59-f9b1527c7f73\",                        [{\"hovertemplate\":\"composition_food_organic_waste_percent=%{x}<br>population_population_number_of_people=%{y}<extra></extra>\",\"legendgroup\":\"\",\"marker\":{\"color\":\"#636efa\",\"symbol\":\"circle\"},\"mode\":\"markers\",\"name\":\"\",\"orientation\":\"v\",\"showlegend\":false,\"x\":[43.2,43.2,51.8,51.4,31.2,39.0,38.74,57.0,19.7,46.0,48.44,31.4,45.19,81.0,14.18,52.1,21.0,80.58,24.35,59.1,46.0,43.2,30.0,47.0,17.0,55.1969112,51.4,18.3,36.0,58.0,8.1,43.2,24.0,29.0,43.2,53.3,61.2,43.2,83.4,43.2,43.2,59.58,50.0,43.2,58.0,68.9,43.2,10.9,41.47,62.3,30.0,43.2,45.0,12.78,51.0,54.4,58.67,56.0,43.2,49.0,36.7,87.6,35.88,33.2,32.0,43.2,23.83,43.2,16.7,39.0,67.0,24.57,58.0,35.0,43.2,43.2,40.0,27.1,42.8,37.71449118,27.3,50.1,35.0,57.9,30.9,61.3,22.5,53.8,43.2,43.2,16.6,72.9,68.7,10.0,34.0,34.4,62.22,50.0,36.0,30.0,57.0,43.2,66.6,43.6,27.2,30.0,45.0,16.9,52.5,43.2,70.1,45.0,37.6,62.0,43.2,40.4,30.0,46.7,3.1,43.2,60.0,43.2,55.0,43.2,24.0,52.4,8.0,29.3,17.5,52.0,43.2,33.82,22.7,43.6,60.0,4.8,64.0,43.2,46.0,43.2,43.6,38.0,43.2,43.2,35.0,15.49,52.39,43.6,28.0,27.0,30.0,46.4,50.43,52.31,26.0,31.0,37.27,13.1,36.49,43.2,59.1,47.0,57.0,56.26,28.41,43.2,45.5,51.4,12.0,10.51,42.8,43.2,65.0,5.35,43.2,37.62,43.2,43.2,57.0,42.0,43.2,23.34,43.2,46.0,48.5,57.0,21.8,70.0,38.0,65.52,43.2,16.18,43.6,51.3,27.15,68.0,64.0,43.6,23.34,43.2,74.5,37.0,53.5,14.9,40.0,49.6,43.2,6.5,46.0,61.9,73.4,42.6,42.0,65.0,16.38165463,43.2,36.0],\"xaxis\":\"x\",\"y\":[103187,34656032,25096150,2854191,82431,9770529,42981516,2906220,55599,96777,23789338,8877067,9649341,6741569,11484055,5521763,18110624,155727056,7025037,1425171,386838,3535961,9489616,359288,64798,10724705,208494896,280601,423196,686958,2014866,4515392,35544564,8574832,164541,16829442,1400050048,20401332,21655716,78736152,2648507,46406648,777424,513979,4757575,11303687,153822,59172,1198575,10669709,83132800,746221,72400,5818553,10528394,40606052,16144368,87813256,4474690,47076780,1326590,99873032,5520314,867086,67059888,48842,104937,1086137,66460344,3717100,21542008,33623,8132552,1311349,1770526,1221490,10716322,105481,56905,16252429,159973,746556,7305700,9112867,4067500,10847334,9769949,261115456,80759,1352617344,4867316,80277424,36115648,343400,8380100,60297396,2881355,8413464,126529104,16791424,41350152,5956900,15270790,114395,54288,51606632,2998083,6663967,5603279,3512932,6193501,177206,36545,21203000,1965662,2786844,619896,1912789,612167,30959,34318080,37783,3554108,24894552,409163,125890952,52793,2082958,16006670,502653,46095464,622227,3027398,54036,27212382,3506288,1263473,16577147,30228016,1559983,278000,8842415,154402176,5737723,17332850,5347896,28982772,13049,4692700,3960925,193203472,3969249,30973354,103320224,21503,7755785,37970872,3473181,10269417,6639119,4046901,273528,2109568,19356544,143201680,11917508,31557144,38647804,15411614,5703600,563513,5439695,6164626,33203,14317996,6944975,11177490,191266,526103,5454073,2087946,10285453,1343098,37685,88303,20824892,34900,11887202,7228915,68657600,8177809,5366277,1268671,104951,1328100,11143908,83429616,11097,23434000,49082996,35093648,45004644,3431552,326687488,29774500,109455,29893080,20645,105784,86932496,270402,187665,1801800,27584212,51729344,14264756,12500525],\"yaxis\":\"y\",\"type\":\"scatter\"}],                        {\"template\":{\"data\":{\"histogram2dcontour\":[{\"type\":\"histogram2dcontour\",\"colorbar\":{\"outlinewidth\":0,\"ticks\":\"\"},\"colorscale\":[[0.0,\"#0d0887\"],[0.1111111111111111,\"#46039f\"],[0.2222222222222222,\"#7201a8\"],[0.3333333333333333,\"#9c179e\"],[0.4444444444444444,\"#bd3786\"],[0.5555555555555556,\"#d8576b\"],[0.6666666666666666,\"#ed7953\"],[0.7777777777777778,\"#fb9f3a\"],[0.8888888888888888,\"#fdca26\"],[1.0,\"#f0f921\"]]}],\"choropleth\":[{\"type\":\"choropleth\",\"colorbar\":{\"outlinewidth\":0,\"ticks\":\"\"}}],\"histogram2d\":[{\"type\":\"histogram2d\",\"colorbar\":{\"outlinewidth\":0,\"ticks\":\"\"},\"colorscale\":[[0.0,\"#0d0887\"],[0.1111111111111111,\"#46039f\"],[0.2222222222222222,\"#7201a8\"],[0.3333333333333333,\"#9c179e\"],[0.4444444444444444,\"#bd3786\"],[0.5555555555555556,\"#d8576b\"],[0.6666666666666666,\"#ed7953\"],[0.7777777777777778,\"#fb9f3a\"],[0.8888888888888888,\"#fdca26\"],[1.0,\"#f0f921\"]]}],\"heatmap\":[{\"type\":\"heatmap\",\"colorbar\":{\"outlinewidth\":0,\"ticks\":\"\"},\"colorscale\":[[0.0,\"#0d0887\"],[0.1111111111111111,\"#46039f\"],[0.2222222222222222,\"#7201a8\"],[0.3333333333333333,\"#9c179e\"],[0.4444444444444444,\"#bd3786\"],[0.5555555555555556,\"#d8576b\"],[0.6666666666666666,\"#ed7953\"],[0.7777777777777778,\"#fb9f3a\"],[0.8888888888888888,\"#fdca26\"],[1.0,\"#f0f921\"]]}],\"heatmapgl\":[{\"type\":\"heatmapgl\",\"colorbar\":{\"outlinewidth\":0,\"ticks\":\"\"},\"colorscale\":[[0.0,\"#0d0887\"],[0.1111111111111111,\"#46039f\"],[0.2222222222222222,\"#7201a8\"],[0.3333333333333333,\"#9c179e\"],[0.4444444444444444,\"#bd3786\"],[0.5555555555555556,\"#d8576b\"],[0.6666666666666666,\"#ed7953\"],[0.7777777777777778,\"#fb9f3a\"],[0.8888888888888888,\"#fdca26\"],[1.0,\"#f0f921\"]]}],\"contourcarpet\":[{\"type\":\"contourcarpet\",\"colorbar\":{\"outlinewidth\":0,\"ticks\":\"\"}}],\"contour\":[{\"type\":\"contour\",\"colorbar\":{\"outlinewidth\":0,\"ticks\":\"\"},\"colorscale\":[[0.0,\"#0d0887\"],[0.1111111111111111,\"#46039f\"],[0.2222222222222222,\"#7201a8\"],[0.3333333333333333,\"#9c179e\"],[0.4444444444444444,\"#bd3786\"],[0.5555555555555556,\"#d8576b\"],[0.6666666666666666,\"#ed7953\"],[0.7777777777777778,\"#fb9f3a\"],[0.8888888888888888,\"#fdca26\"],[1.0,\"#f0f921\"]]}],\"surface\":[{\"type\":\"surface\",\"colorbar\":{\"outlinewidth\":0,\"ticks\":\"\"},\"colorscale\":[[0.0,\"#0d0887\"],[0.1111111111111111,\"#46039f\"],[0.2222222222222222,\"#7201a8\"],[0.3333333333333333,\"#9c179e\"],[0.4444444444444444,\"#bd3786\"],[0.5555555555555556,\"#d8576b\"],[0.6666666666666666,\"#ed7953\"],[0.7777777777777778,\"#fb9f3a\"],[0.8888888888888888,\"#fdca26\"],[1.0,\"#f0f921\"]]}],\"mesh3d\":[{\"type\":\"mesh3d\",\"colorbar\":{\"outlinewidth\":0,\"ticks\":\"\"}}],\"scatter\":[{\"fillpattern\":{\"fillmode\":\"overlay\",\"size\":10,\"solidity\":0.2},\"type\":\"scatter\"}],\"parcoords\":[{\"type\":\"parcoords\",\"line\":{\"colorbar\":{\"outlinewidth\":0,\"ticks\":\"\"}}}],\"scatterpolargl\":[{\"type\":\"scatterpolargl\",\"marker\":{\"colorbar\":{\"outlinewidth\":0,\"ticks\":\"\"}}}],\"bar\":[{\"error_x\":{\"color\":\"#2a3f5f\"},\"error_y\":{\"color\":\"#2a3f5f\"},\"marker\":{\"line\":{\"color\":\"#E5ECF6\",\"width\":0.5},\"pattern\":{\"fillmode\":\"overlay\",\"size\":10,\"solidity\":0.2}},\"type\":\"bar\"}],\"scattergeo\":[{\"type\":\"scattergeo\",\"marker\":{\"colorbar\":{\"outlinewidth\":0,\"ticks\":\"\"}}}],\"scatterpolar\":[{\"type\":\"scatterpolar\",\"marker\":{\"colorbar\":{\"outlinewidth\":0,\"ticks\":\"\"}}}],\"histogram\":[{\"marker\":{\"pattern\":{\"fillmode\":\"overlay\",\"size\":10,\"solidity\":0.2}},\"type\":\"histogram\"}],\"scattergl\":[{\"type\":\"scattergl\",\"marker\":{\"colorbar\":{\"outlinewidth\":0,\"ticks\":\"\"}}}],\"scatter3d\":[{\"type\":\"scatter3d\",\"line\":{\"colorbar\":{\"outlinewidth\":0,\"ticks\":\"\"}},\"marker\":{\"colorbar\":{\"outlinewidth\":0,\"ticks\":\"\"}}}],\"scattermapbox\":[{\"type\":\"scattermapbox\",\"marker\":{\"colorbar\":{\"outlinewidth\":0,\"ticks\":\"\"}}}],\"scatterternary\":[{\"type\":\"scatterternary\",\"marker\":{\"colorbar\":{\"outlinewidth\":0,\"ticks\":\"\"}}}],\"scattercarpet\":[{\"type\":\"scattercarpet\",\"marker\":{\"colorbar\":{\"outlinewidth\":0,\"ticks\":\"\"}}}],\"carpet\":[{\"aaxis\":{\"endlinecolor\":\"#2a3f5f\",\"gridcolor\":\"white\",\"linecolor\":\"white\",\"minorgridcolor\":\"white\",\"startlinecolor\":\"#2a3f5f\"},\"baxis\":{\"endlinecolor\":\"#2a3f5f\",\"gridcolor\":\"white\",\"linecolor\":\"white\",\"minorgridcolor\":\"white\",\"startlinecolor\":\"#2a3f5f\"},\"type\":\"carpet\"}],\"table\":[{\"cells\":{\"fill\":{\"color\":\"#EBF0F8\"},\"line\":{\"color\":\"white\"}},\"header\":{\"fill\":{\"color\":\"#C8D4E3\"},\"line\":{\"color\":\"white\"}},\"type\":\"table\"}],\"barpolar\":[{\"marker\":{\"line\":{\"color\":\"#E5ECF6\",\"width\":0.5},\"pattern\":{\"fillmode\":\"overlay\",\"size\":10,\"solidity\":0.2}},\"type\":\"barpolar\"}],\"pie\":[{\"automargin\":true,\"type\":\"pie\"}]},\"layout\":{\"autotypenumbers\":\"strict\",\"colorway\":[\"#636efa\",\"#EF553B\",\"#00cc96\",\"#ab63fa\",\"#FFA15A\",\"#19d3f3\",\"#FF6692\",\"#B6E880\",\"#FF97FF\",\"#FECB52\"],\"font\":{\"color\":\"#2a3f5f\"},\"hovermode\":\"closest\",\"hoverlabel\":{\"align\":\"left\"},\"paper_bgcolor\":\"white\",\"plot_bgcolor\":\"#E5ECF6\",\"polar\":{\"bgcolor\":\"#E5ECF6\",\"angularaxis\":{\"gridcolor\":\"white\",\"linecolor\":\"white\",\"ticks\":\"\"},\"radialaxis\":{\"gridcolor\":\"white\",\"linecolor\":\"white\",\"ticks\":\"\"}},\"ternary\":{\"bgcolor\":\"#E5ECF6\",\"aaxis\":{\"gridcolor\":\"white\",\"linecolor\":\"white\",\"ticks\":\"\"},\"baxis\":{\"gridcolor\":\"white\",\"linecolor\":\"white\",\"ticks\":\"\"},\"caxis\":{\"gridcolor\":\"white\",\"linecolor\":\"white\",\"ticks\":\"\"}},\"coloraxis\":{\"colorbar\":{\"outlinewidth\":0,\"ticks\":\"\"}},\"colorscale\":{\"sequential\":[[0.0,\"#0d0887\"],[0.1111111111111111,\"#46039f\"],[0.2222222222222222,\"#7201a8\"],[0.3333333333333333,\"#9c179e\"],[0.4444444444444444,\"#bd3786\"],[0.5555555555555556,\"#d8576b\"],[0.6666666666666666,\"#ed7953\"],[0.7777777777777778,\"#fb9f3a\"],[0.8888888888888888,\"#fdca26\"],[1.0,\"#f0f921\"]],\"sequentialminus\":[[0.0,\"#0d0887\"],[0.1111111111111111,\"#46039f\"],[0.2222222222222222,\"#7201a8\"],[0.3333333333333333,\"#9c179e\"],[0.4444444444444444,\"#bd3786\"],[0.5555555555555556,\"#d8576b\"],[0.6666666666666666,\"#ed7953\"],[0.7777777777777778,\"#fb9f3a\"],[0.8888888888888888,\"#fdca26\"],[1.0,\"#f0f921\"]],\"diverging\":[[0,\"#8e0152\"],[0.1,\"#c51b7d\"],[0.2,\"#de77ae\"],[0.3,\"#f1b6da\"],[0.4,\"#fde0ef\"],[0.5,\"#f7f7f7\"],[0.6,\"#e6f5d0\"],[0.7,\"#b8e186\"],[0.8,\"#7fbc41\"],[0.9,\"#4d9221\"],[1,\"#276419\"]]},\"xaxis\":{\"gridcolor\":\"white\",\"linecolor\":\"white\",\"ticks\":\"\",\"title\":{\"standoff\":15},\"zerolinecolor\":\"white\",\"automargin\":true,\"zerolinewidth\":2},\"yaxis\":{\"gridcolor\":\"white\",\"linecolor\":\"white\",\"ticks\":\"\",\"title\":{\"standoff\":15},\"zerolinecolor\":\"white\",\"automargin\":true,\"zerolinewidth\":2},\"scene\":{\"xaxis\":{\"backgroundcolor\":\"#E5ECF6\",\"gridcolor\":\"white\",\"linecolor\":\"white\",\"showbackground\":true,\"ticks\":\"\",\"zerolinecolor\":\"white\",\"gridwidth\":2},\"yaxis\":{\"backgroundcolor\":\"#E5ECF6\",\"gridcolor\":\"white\",\"linecolor\":\"white\",\"showbackground\":true,\"ticks\":\"\",\"zerolinecolor\":\"white\",\"gridwidth\":2},\"zaxis\":{\"backgroundcolor\":\"#E5ECF6\",\"gridcolor\":\"white\",\"linecolor\":\"white\",\"showbackground\":true,\"ticks\":\"\",\"zerolinecolor\":\"white\",\"gridwidth\":2}},\"shapedefaults\":{\"line\":{\"color\":\"#2a3f5f\"}},\"annotationdefaults\":{\"arrowcolor\":\"#2a3f5f\",\"arrowhead\":0,\"arrowwidth\":1},\"geo\":{\"bgcolor\":\"white\",\"landcolor\":\"#E5ECF6\",\"subunitcolor\":\"white\",\"showland\":true,\"showlakes\":true,\"lakecolor\":\"white\"},\"title\":{\"x\":0.05},\"mapbox\":{\"style\":\"light\"}}},\"xaxis\":{\"anchor\":\"y\",\"domain\":[0.0,1.0],\"title\":{\"text\":\"waste percent\"}},\"yaxis\":{\"anchor\":\"x\",\"domain\":[0.0,1.0],\"title\":{\"text\":\"population\"}},\"legend\":{\"tracegroupgap\":0},\"title\":{\"text\":\"composition food organic waste percent vs population number of people\"}},                        {\"responsive\": true}                    ).then(function(){\n                            \nvar gd = document.getElementById('2058c794-9195-4920-9a59-f9b1527c7f73');\nvar x = new MutationObserver(function (mutations, observer) {{\n        var display = window.getComputedStyle(gd).display;\n        if (!display || display === 'none') {{\n            console.log([gd, 'removed!']);\n            Plotly.purge(gd);\n            observer.disconnect();\n        }}\n}});\n\n// Listen for the removal of the full notebook cells\nvar notebookContainer = gd.closest('#notebook-container');\nif (notebookContainer) {{\n    x.observe(notebookContainer, {childList: true});\n}}\n\n// Listen for the clearing of the current output cell\nvar outputEl = gd.closest('.output');\nif (outputEl) {{\n    x.observe(outputEl, {childList: true});\n}}\n\n                        })                };                            </script>        </div>\n</body>\n</html>"
     },
     "execution_count": 29,
     "metadata": {
     },
     "output_type": "execute_result"
    }
   ],
   "source": [
    "#Suniti Second Graph\n",
    "my_dataset_text = my_dataset[['population_population_number_of_people', 'composition_food_organic_waste_percent']]\n",
    "countries = [\"Aruba\", \"Afghanistan\", \"Angola\", \"Albania\", \"Andorra\", \"Kosovo\", \"Yemen, Rep.\", \"South Africa\", \"Zambia\", \"Zimbabwe\"]\n",
    "n_countries = len(countries)\n",
    "\n",
    "# Save months and seasons to new dataframe\n",
    "column_1= my_dataset_text[\"population_population_number_of_people\"]\n",
    "column_2= my_dataset_text[\"composition_food_organic_waste_percent\"]\n",
    "# Use column names of df for the different parameters x, y, color, ...\n",
    "fig = px.scatter(my_dataset_text, x=\"composition_food_organic_waste_percent\", y=\"population_population_number_of_people\",\n",
    "                 title=\"composition food organic waste percent vs population number of people\").update_layout(\n",
    "    xaxis_title=\"waste percent\", yaxis_title=\"population\"\n",
    ")\n",
    "\n",
    "fig.show()"
   ]
  },
  {
   "cell_type": "code",
   "execution_count": 0,
   "metadata": {
    "collapsed": false
   },
   "outputs": [
   ],
   "source": [
    "#Conclusion:Using the data shown above, it is clear that the population and the waste percentage do not correlate, since waste percentages vary regardless of population size."
   ]
  },
  {
   "cell_type": "code",
   "execution_count": 3,
   "metadata": {
    "collapsed": false
   },
   "outputs": [
    {
     "ename": "NameError",
     "evalue": "name 'px' is not defined",
     "output_type": "error",
     "traceback": [
      "\u001b[0;31m---------------------------------------------------------------------------\u001b[0m",
      "\u001b[0;31mNameError\u001b[0m                                 Traceback (most recent call last)",
      "Input \u001b[0;32mIn [3]\u001b[0m, in \u001b[0;36m<cell line: 1>\u001b[0;34m()\u001b[0m\n\u001b[0;32m----> 1\u001b[0m fig \u001b[38;5;241m=\u001b[39m \u001b[43mpx\u001b[49m\u001b[38;5;241m.\u001b[39mscatter(my_dataset, x\u001b[38;5;241m=\u001b[39m\u001b[38;5;124m\"\u001b[39m\u001b[38;5;124mtotal_msw_total_msw_generated_tons_year\u001b[39m\u001b[38;5;124m\"\u001b[39m, size\u001b[38;5;241m=\u001b[39m\u001b[38;5;124m\"\u001b[39m\u001b[38;5;124mtotal_msw_total_msw_generated_tons_year\u001b[39m\u001b[38;5;124m\"\u001b[39m, color\u001b[38;5;241m=\u001b[39m\u001b[38;5;124m\"\u001b[39m\u001b[38;5;124mother_information_national_law_governing_solid_waste_management_in_the_country\u001b[39m\u001b[38;5;124m\"\u001b[39m, hover_name\u001b[38;5;241m=\u001b[39m\u001b[38;5;124m\"\u001b[39m\u001b[38;5;124mcountry_name\u001b[39m\u001b[38;5;124m\"\u001b[39m, log_x\u001b[38;5;241m=\u001b[39m\u001b[38;5;28;01mTrue\u001b[39;00m, size_max\u001b[38;5;241m=\u001b[39m\u001b[38;5;241m60\u001b[39m, color_discrete_sequence\u001b[38;5;241m=\u001b[39m[\u001b[38;5;124m\"\u001b[39m\u001b[38;5;124mcornflowerblue\u001b[39m\u001b[38;5;124m\"\u001b[39m, \u001b[38;5;124m\"\u001b[39m\u001b[38;5;124mcrimson\u001b[39m\u001b[38;5;124m\"\u001b[39m], title\u001b[38;5;241m=\u001b[39m\u001b[38;5;124m\"\u001b[39m\u001b[38;5;124mEffect of Waste Management Laws on the Total Amount of Municipal Solid Waste (MSW) Produced in Countries\u001b[39m\u001b[38;5;124m\"\u001b[39m)\n\u001b[1;32m      2\u001b[0m fig\u001b[38;5;241m.\u001b[39mupdate_layout(legend_title_text\u001b[38;5;241m=\u001b[39m\u001b[38;5;124m'\u001b[39m\u001b[38;5;124mNational Law Governing Solid Waste Management\u001b[39m\u001b[38;5;124m'\u001b[39m)\n\u001b[1;32m      3\u001b[0m fig\u001b[38;5;241m.\u001b[39mshow()\n",
      "\u001b[0;31mNameError\u001b[0m: name 'px' is not defined"
     ]
    }
   ],
   "source": [
    "fig = px.scatter(my_dataset, x=\"total_msw_total_msw_generated_tons_year\", size=\"total_msw_total_msw_generated_tons_year\", color=\"other_information_national_law_governing_solid_waste_management_in_the_country\", hover_name=\"country_name\", log_x=True, size_max=60, color_discrete_sequence=[\"cornflowerblue\", \"crimson\"], title=\"Effect of Waste Management Laws on the Total Amount of Municipal Solid Waste (MSW) Produced in Countries\")\n",
    "fig.update_layout(legend_title_text='National Law Governing Solid Waste Management')\n",
    "fig.show()"
   ]
  },
  {
   "cell_type": "markdown",
   "metadata": {
    "collapsed": false
   },
   "source": [
    "A national law governing waste management in a country does not decrease the total waste produced in that country. The countries that produced the most amount of municipal solid waste \\(MSW\\) had national laws governing solid waste.\n",
    "\n"
   ]
  },
  {
   "cell_type": "code",
   "execution_count": 35,
   "metadata": {
    "collapsed": false
   },
   "outputs": [
    {
     "data": {
      "text/html": "<html>\n<head><meta charset=\"utf-8\" /></head>\n<body>\n    <div>            <script src=\"https://cdnjs.cloudflare.com/ajax/libs/mathjax/2.7.5/MathJax.js?config=TeX-AMS-MML_SVG\"></script><script type=\"text/javascript\">if (window.MathJax && window.MathJax.Hub && window.MathJax.Hub.Config) {window.MathJax.Hub.Config({SVG: {font: \"STIX-Web\"}});}</script>                <script type=\"text/javascript\">window.PlotlyConfig = {MathJaxConfig: 'local'};</script>\n        <script src=\"https://cdn.plot.ly/plotly-2.16.1.min.js\"></script>                <div id=\"c59f93bc-4757-4277-9e61-0bb60c3f8a6c\" class=\"plotly-graph-div\" style=\"height:525px; width:100%;\"></div>            <script type=\"text/javascript\">                                    window.PLOTLYENV=window.PLOTLYENV || {};                                    if (document.getElementById(\"c59f93bc-4757-4277-9e61-0bb60c3f8a6c\")) {                    Plotly.newPlot(                        \"c59f93bc-4757-4277-9e61-0bb60c3f8a6c\",                        [{\"customdata\":[[\"Aruba\"],[\"Afghanistan\"],[\"Angola\"],[\"Albania\"],[\"Andorra\"],[\"United Arab Emirates\"],[\"Argentina\"],[\"American Samoa\"],[\"Antigua and Barbuda\"],[\"Australia\"],[\"Austria\"],[\"Azerbaijan\"],[\"Burundi\"],[\"Belgium\"],[\"Benin\"],[\"Bangladesh\"],[\"Bulgaria\"],[\"Bahrain\"],[\"Bahamas, The\"],[\"Belarus\"],[\"Belize\"],[\"Bermuda\"],[\"Bolivia\"],[\"Brazil\"],[\"Barbados\"],[\"Brunei Darussalam\"],[\"Bhutan\"],[\"Botswana\"],[\"Central African Republic\"],[\"Canada\"],[\"Switzerland\"],[\"Channel Islands\"],[\"China\"],[\"C\\u00f4te d\\u2019Ivoire\"],[\"Cameroon\"],[\"Congo, Dem. Rep.\"],[\"Colombia\"],[\"Comoros\"],[\"Cabo Verde\"],[\"Costa Rica\"],[\"Curacao\"],[\"Cayman Islands\"],[\"Cyprus\"],[\"Czech Republic\"],[\"Germany\"],[\"Djibouti\"],[\"Dominica\"],[\"Denmark\"],[\"Dominican Republic\"],[\"Algeria\"],[\"Ecuador\"],[\"Egypt, Arab Rep.\"],[\"Eritrea\"],[\"Spain\"],[\"Estonia\"],[\"Ethiopia\"],[\"Finland\"],[\"Fiji\"],[\"France\"],[\"Faeroe Islands\"],[\"Micronesia, Fed. Sts.\"],[\"Gabon\"],[\"United Kingdom\"],[\"Ghana\"],[\"Gibraltar\"],[\"Guinea\"],[\"Gambia, The\"],[\"Guinea-Bissau\"],[\"Equatorial Guinea\"],[\"Greece\"],[\"Grenada\"],[\"Greenland\"],[\"Guatemala\"],[\"Guam\"],[\"Guyana\"],[\"Hong Kong SAR, China\"],[\"Honduras\"],[\"Croatia\"],[\"Hungary\"],[\"Indonesia\"],[\"Isle of Man\"],[\"India\"],[\"Ireland\"],[\"Iran, Islamic Rep.\"],[\"Iceland\"],[\"Israel\"],[\"Italy\"],[\"Jamaica\"],[\"Kazakhstan\"],[\"Kenya\"],[\"Kyrgyz Republic\"],[\"Cambodia\"],[\"Kiribati\"],[\"St. Kitts and Nevis\"],[\"Korea, Rep.\"],[\"Kuwait\"],[\"Lao PDR\"],[\"Lebanon\"],[\"Liberia\"],[\"Libya\"],[\"St. Lucia\"],[\"Liechtenstein\"],[\"Sri Lanka\"],[\"Lesotho\"],[\"Lithuania\"],[\"Luxembourg\"],[\"Latvia\"],[\"Macao SAR, China\"],[\"St. Martin (French part)\"],[\"Monaco\"],[\"Moldova\"],[\"Madagascar\"],[\"Maldives\"],[\"Mexico\"],[\"Marshall Islands\"],[\"Macedonia, FYR\"],[\"Mali\"],[\"Malta\"],[\"Myanmar\"],[\"Montenegro\"],[\"Mongolia\"],[\"Northern Mariana Islands\"],[\"Mozambique\"],[\"Mauritania\"],[\"Mauritius\"],[\"Malawi\"],[\"Malaysia\"],[\"Namibia\"],[\"New Caledonia\"],[\"Niger\"],[\"Nigeria\"],[\"Nicaragua\"],[\"Netherlands\"],[\"Norway\"],[\"Nepal\"],[\"Nauru\"],[\"New Zealand\"],[\"Oman\"],[\"Pakistan\"],[\"Panama\"],[\"Peru\"],[\"Philippines\"],[\"Papua New Guinea\"],[\"Poland\"],[\"Puerto Rico\"],[\"Portugal\"],[\"Paraguay\"],[\"West Bank and Gaza\"],[\"French Polynesia\"],[\"Qatar\"],[\"Romania\"],[\"Russian Federation\"],[\"Rwanda\"],[\"Saudi Arabia\"],[\"Sudan\"],[\"Singapore\"],[\"Solomon Islands\"],[\"Sierra Leone\"],[\"El Salvador\"],[\"San Marino\"],[\"Somalia\"],[\"Serbia\"],[\"South Sudan\"],[\"S\\u00e3o Tom\\u00e9 and Pr\\u00edncipe\"],[\"Slovak Republic\"],[\"Slovenia\"],[\"Sweden\"],[\"Eswatini\"],[\"Sint Maarten (Dutch part)\"],[\"Seychelles\"],[\"Syrian Arab Republic\"],[\"Turks and Caicos Islands\"],[\"Chad\"],[\"Togo\"],[\"Thailand\"],[\"Tajikistan\"],[\"Turkmenistan\"],[\"Timor-Leste\"],[\"Tonga\"],[\"Trinidad and Tobago\"],[\"Tunisia\"],[\"Turkey\"],[\"Tuvalu\"],[\"Afghanistan\"],[\"Tanzania\"],[\"Uganda\"],[\"Ukraine\"],[\"Uruguay\"],[\"United States\"],[\"Uzbekistan\"],[\"St. Vincent and the Grenadines\"],[\"British Virgin Islands\"],[\"Virgin Islands (U.S.)\"],[\"Vietnam\"],[\"Vanuatu\"],[\"Samoa\"],[\"Kosovo\"],[\"Yemen, Rep.\"],[\"South Africa\"],[\"Zambia\"],[\"Zimbabwe\"]],\"hovertemplate\":\"other_information_national_agency_to_enforce_solid_waste_laws_and_regulations=Yes<br>population_population_number_of_people=%{marker.size}<br>gdp=%{y}<br>country_name=%{customdata[0]}<extra></extra>\",\"legendgroup\":\"Yes\",\"marker\":{\"color\":\"cornflowerblue\",\"size\":[103187,34656032,25096150,2854191,82431,9770529,42981516,55599,96777,23789338,8877067,9649341,6741569,11484055,5521763,155727056,7025037,1425171,386838,9489616,359288,64798,10724705,208494896,280601,423196,686958,2014866,4515392,35544564,8574832,164541,1400050048,20401332,21655716,78736152,46406648,777424,513979,4757575,153822,59172,1198575,10669709,83132800,746221,72400,5818553,10528394,40606052,16144368,87813256,4474690,47076780,1326590,99873032,5520314,867086,67059888,48842,104937,1086137,66460344,21542008,33623,8132552,1311349,1770526,1221490,10716322,105481,56905,16252429,159973,746556,7305700,9112867,4067500,9769949,261115456,80759,1352617344,4867316,80277424,343400,8380100,60297396,2881355,16791424,41350152,5956900,15270790,114395,54288,51606632,2998083,6663967,5603279,3512932,6193501,177206,36545,21203000,1965662,2786844,619896,1912789,612167,30959,37783,3554108,24894552,409163,125890952,52793,2082958,16006670,502653,46095464,622227,3027398,54036,27212382,3506288,1263473,16577147,30228016,1559983,278000,8842415,154402176,5737723,17332850,5347896,28982772,13049,4692700,3960925,193203472,3969249,30973354,103320224,7755785,37970872,3473181,10269417,6639119,4046901,273528,2109568,19356544,143201680,11917508,31557144,38647804,5703600,563513,5439695,6164626,33203,14317996,6944975,11177490,191266,5454073,2087946,10285453,1343098,37685,88303,20824892,34900,11887202,7228915,68657600,8177809,5366277,1268671,104951,1328100,11143908,83429616,11097,23434000,49082996,35093648,45004644,3431552,326687488,29774500,109455,20645,105784,86932496,270402,187665,1801800,27584212,51729344,14264756,12500525],\"sizemode\":\"area\",\"sizeref\":560020.0192,\"symbol\":\"circle\"},\"mode\":\"markers\",\"name\":\"Yes\",\"orientation\":\"v\",\"showlegend\":true,\"x\":[103187,34656032,25096150,2854191,82431,9770529,42981516,55599,96777,23789338,8877067,9649341,6741569,11484055,5521763,155727056,7025037,1425171,386838,9489616,359288,64798,10724705,208494896,280601,423196,686958,2014866,4515392,35544564,8574832,164541,1400050048,20401332,21655716,78736152,46406648,777424,513979,4757575,153822,59172,1198575,10669709,83132800,746221,72400,5818553,10528394,40606052,16144368,87813256,4474690,47076780,1326590,99873032,5520314,867086,67059888,48842,104937,1086137,66460344,21542008,33623,8132552,1311349,1770526,1221490,10716322,105481,56905,16252429,159973,746556,7305700,9112867,4067500,9769949,261115456,80759,1352617344,4867316,80277424,343400,8380100,60297396,2881355,16791424,41350152,5956900,15270790,114395,54288,51606632,2998083,6663967,5603279,3512932,6193501,177206,36545,21203000,1965662,2786844,619896,1912789,612167,30959,37783,3554108,24894552,409163,125890952,52793,2082958,16006670,502653,46095464,622227,3027398,54036,27212382,3506288,1263473,16577147,30228016,1559983,278000,8842415,154402176,5737723,17332850,5347896,28982772,13049,4692700,3960925,193203472,3969249,30973354,103320224,7755785,37970872,3473181,10269417,6639119,4046901,273528,2109568,19356544,143201680,11917508,31557144,38647804,5703600,563513,5439695,6164626,33203,14317996,6944975,11177490,191266,5454073,2087946,10285453,1343098,37685,88303,20824892,34900,11887202,7228915,68657600,8177809,5366277,1268671,104951,1328100,11143908,83429616,11097,23434000,49082996,35093648,45004644,3431552,326687488,29774500,109455,20645,105784,86932496,270402,187665,1801800,27584212,51729344,14264756,12500525],\"xaxis\":\"x\",\"y\":[35563.3125,2057.062256,8036.69043,13724.05859,43711.80078,67119.13281,23550.09961,11113.44238,17965.50195,47784.17969,56029.61328,14853.91016,839.7785034,51914.91406,2227.352295,3195.737061,22279.36133,47937.77734,35400.08203,18307.51953,7259.024414,80982.36719,7984.413574,14596.24609,15444.74609,60865.98828,6743.016113,14126.38965,822.6104736,47672.07813,68394.28906,46672.59375,16092.30078,3660.902832,3262.763672,1055.572998,12523.00684,2959.540039,6353.783203,18168.71484,27503.78906,66207.44531,39544.68359,40836.32813,53784.78125,6596.775391,11708.63965,57821.19922,15328.35254,11826.16504,11896.37695,10301.10742,1714.552368,40985.55859,36956.28516,1779.083984,48814.30859,10787.68555,46110.18359,44402.87891,3440.064209,18514.65234,46290.12109,3092.596924,43711.80078,1622.776855,2180.855713,1800.068604,24827.07227,30465.44922,13207.71191,43948.5625,8125.364746,59074.94141,9812.089844,57215.96875,5395.61377,28829.35547,32643.49023,10531.19824,44203.62109,6496.807617,83388.71875,14535.8623,55274.1875,37687.74609,42419.72266,9550.810547,22702.58008,3329.854492,4805.141113,3364.278809,2249.768555,25569.35742,42105.28125,58810.30078,6543.666992,16966.74023,1333.422241,8479.946289,14029.98242,45726.98828,12287.47266,1978.608398,37278.30469,114323.4063,30982.17383,117335.5859,30385.89453,43711.80078,10360.83008,1565.866943,17284.60938,19332.07422,3628.895264,16147.72949,2007.80603,43707.53906,1093.788086,20752.62109,10940.41504,60955.72656,1217.09021,4783.635742,20646.93359,999.4413452,23906.26563,6152.987305,57330.20313,1038.224121,4690.379395,4611.840332,56849.375,64962.26172,2902.249268,11167.31934,41857.47656,30535.83398,4571.414551,28436.35938,11877.08398,7705.04541,3912.381104,33221.54297,34311.03125,34961.94531,11810.42773,5985.683105,60955.72656,96261.66406,29983.55664,26012.84961,1950.528076,48921.23047,4191.823242,97341.46875,2596.452881,1237.630249,7328.713379,58806.19922,1862.614136,18351.27344,1795.991943,3720.786865,31965.76172,39037.93359,52608.71094,8321.106445,13465.88525,23302.95313,8587.050781,28174.48242,1732.691284,1404.132935,16301.53809,2616.475586,11471.18652,3344.57373,5636.418457,28910.9082,10505.2627,28289.08789,3793.127686,57362.92578,2128.553955,1972.301758,11534.6377,20588.39258,61498.37109,5164.274414,11971.99316,24215.88281,30436.56445,5089.411133,3061.787354,6210.983398,9723.561523,8269.671875,12666.60742,3201.289307,3190.506592],\"yaxis\":\"y\",\"type\":\"scatter\"},{\"customdata\":[[\"Armenia\"],[\"Burkina Faso\"],[\"Bosnia and Herzegovina\"],[\"Chile\"],[\"Congo, Rep.\"],[\"Cuba\"],[\"Georgia\"],[\"Haiti\"],[\"Iraq\"],[\"Jordan\"],[\"Japan\"],[\"Morocco\"],[\"Senegal\"],[\"Suriname\"],[\"Venezuela, RB\"]],\"hovertemplate\":\"other_information_national_agency_to_enforce_solid_waste_laws_and_regulations=No<br>population_population_number_of_people=%{marker.size}<br>gdp=%{y}<br>country_name=%{customdata[0]}<extra></extra>\",\"legendgroup\":\"No\",\"marker\":{\"color\":\"crimson\",\"size\":[2906220,18110624,3535961,16829442,2648507,11303687,3717100,10847334,36115648,8413464,126529104,34318080,15411614,526103,29893080],\"sizemode\":\"area\",\"sizeref\":560020.0192,\"symbol\":\"circle\"},\"mode\":\"markers\",\"name\":\"No\",\"orientation\":\"v\",\"showlegend\":true,\"x\":[2906220,18110624,3535961,16829442,2648507,11303687,3717100,10847334,36115648,8413464,126529104,34318080,15411614,526103,29893080],\"xaxis\":\"x\",\"y\":[11019.83887,1925.331177,12671.00781,20361.71484,4899.57959,12984.71094,12605.13965,2952.618652,10310.67969,10413.17578,41309.95703,6915.103027,3067.662598,16953.80273,14269.67383],\"yaxis\":\"y\",\"type\":\"scatter\"},{\"customdata\":[[\"Palau\"]],\"hovertemplate\":\"other_information_national_agency_to_enforce_solid_waste_laws_and_regulations=None<br>population_population_number_of_people=%{marker.size}<br>gdp=%{y}<br>country_name=%{customdata[0]}<extra></extra>\",\"legendgroup\":\"None\",\"marker\":{\"color\":\"cornflowerblue\",\"size\":[21503],\"sizemode\":\"area\",\"sizeref\":560020.0192,\"symbol\":\"circle\"},\"mode\":\"markers\",\"name\":\"None\",\"orientation\":\"v\",\"showlegend\":true,\"x\":[21503],\"xaxis\":\"x\",\"y\":[18275.02539],\"yaxis\":\"y\",\"type\":\"scatter\"}],                        {\"template\":{\"data\":{\"histogram2dcontour\":[{\"type\":\"histogram2dcontour\",\"colorbar\":{\"outlinewidth\":0,\"ticks\":\"\"},\"colorscale\":[[0.0,\"#0d0887\"],[0.1111111111111111,\"#46039f\"],[0.2222222222222222,\"#7201a8\"],[0.3333333333333333,\"#9c179e\"],[0.4444444444444444,\"#bd3786\"],[0.5555555555555556,\"#d8576b\"],[0.6666666666666666,\"#ed7953\"],[0.7777777777777778,\"#fb9f3a\"],[0.8888888888888888,\"#fdca26\"],[1.0,\"#f0f921\"]]}],\"choropleth\":[{\"type\":\"choropleth\",\"colorbar\":{\"outlinewidth\":0,\"ticks\":\"\"}}],\"histogram2d\":[{\"type\":\"histogram2d\",\"colorbar\":{\"outlinewidth\":0,\"ticks\":\"\"},\"colorscale\":[[0.0,\"#0d0887\"],[0.1111111111111111,\"#46039f\"],[0.2222222222222222,\"#7201a8\"],[0.3333333333333333,\"#9c179e\"],[0.4444444444444444,\"#bd3786\"],[0.5555555555555556,\"#d8576b\"],[0.6666666666666666,\"#ed7953\"],[0.7777777777777778,\"#fb9f3a\"],[0.8888888888888888,\"#fdca26\"],[1.0,\"#f0f921\"]]}],\"heatmap\":[{\"type\":\"heatmap\",\"colorbar\":{\"outlinewidth\":0,\"ticks\":\"\"},\"colorscale\":[[0.0,\"#0d0887\"],[0.1111111111111111,\"#46039f\"],[0.2222222222222222,\"#7201a8\"],[0.3333333333333333,\"#9c179e\"],[0.4444444444444444,\"#bd3786\"],[0.5555555555555556,\"#d8576b\"],[0.6666666666666666,\"#ed7953\"],[0.7777777777777778,\"#fb9f3a\"],[0.8888888888888888,\"#fdca26\"],[1.0,\"#f0f921\"]]}],\"heatmapgl\":[{\"type\":\"heatmapgl\",\"colorbar\":{\"outlinewidth\":0,\"ticks\":\"\"},\"colorscale\":[[0.0,\"#0d0887\"],[0.1111111111111111,\"#46039f\"],[0.2222222222222222,\"#7201a8\"],[0.3333333333333333,\"#9c179e\"],[0.4444444444444444,\"#bd3786\"],[0.5555555555555556,\"#d8576b\"],[0.6666666666666666,\"#ed7953\"],[0.7777777777777778,\"#fb9f3a\"],[0.8888888888888888,\"#fdca26\"],[1.0,\"#f0f921\"]]}],\"contourcarpet\":[{\"type\":\"contourcarpet\",\"colorbar\":{\"outlinewidth\":0,\"ticks\":\"\"}}],\"contour\":[{\"type\":\"contour\",\"colorbar\":{\"outlinewidth\":0,\"ticks\":\"\"},\"colorscale\":[[0.0,\"#0d0887\"],[0.1111111111111111,\"#46039f\"],[0.2222222222222222,\"#7201a8\"],[0.3333333333333333,\"#9c179e\"],[0.4444444444444444,\"#bd3786\"],[0.5555555555555556,\"#d8576b\"],[0.6666666666666666,\"#ed7953\"],[0.7777777777777778,\"#fb9f3a\"],[0.8888888888888888,\"#fdca26\"],[1.0,\"#f0f921\"]]}],\"surface\":[{\"type\":\"surface\",\"colorbar\":{\"outlinewidth\":0,\"ticks\":\"\"},\"colorscale\":[[0.0,\"#0d0887\"],[0.1111111111111111,\"#46039f\"],[0.2222222222222222,\"#7201a8\"],[0.3333333333333333,\"#9c179e\"],[0.4444444444444444,\"#bd3786\"],[0.5555555555555556,\"#d8576b\"],[0.6666666666666666,\"#ed7953\"],[0.7777777777777778,\"#fb9f3a\"],[0.8888888888888888,\"#fdca26\"],[1.0,\"#f0f921\"]]}],\"mesh3d\":[{\"type\":\"mesh3d\",\"colorbar\":{\"outlinewidth\":0,\"ticks\":\"\"}}],\"scatter\":[{\"fillpattern\":{\"fillmode\":\"overlay\",\"size\":10,\"solidity\":0.2},\"type\":\"scatter\"}],\"parcoords\":[{\"type\":\"parcoords\",\"line\":{\"colorbar\":{\"outlinewidth\":0,\"ticks\":\"\"}}}],\"scatterpolargl\":[{\"type\":\"scatterpolargl\",\"marker\":{\"colorbar\":{\"outlinewidth\":0,\"ticks\":\"\"}}}],\"bar\":[{\"error_x\":{\"color\":\"#2a3f5f\"},\"error_y\":{\"color\":\"#2a3f5f\"},\"marker\":{\"line\":{\"color\":\"#E5ECF6\",\"width\":0.5},\"pattern\":{\"fillmode\":\"overlay\",\"size\":10,\"solidity\":0.2}},\"type\":\"bar\"}],\"scattergeo\":[{\"type\":\"scattergeo\",\"marker\":{\"colorbar\":{\"outlinewidth\":0,\"ticks\":\"\"}}}],\"scatterpolar\":[{\"type\":\"scatterpolar\",\"marker\":{\"colorbar\":{\"outlinewidth\":0,\"ticks\":\"\"}}}],\"histogram\":[{\"marker\":{\"pattern\":{\"fillmode\":\"overlay\",\"size\":10,\"solidity\":0.2}},\"type\":\"histogram\"}],\"scattergl\":[{\"type\":\"scattergl\",\"marker\":{\"colorbar\":{\"outlinewidth\":0,\"ticks\":\"\"}}}],\"scatter3d\":[{\"type\":\"scatter3d\",\"line\":{\"colorbar\":{\"outlinewidth\":0,\"ticks\":\"\"}},\"marker\":{\"colorbar\":{\"outlinewidth\":0,\"ticks\":\"\"}}}],\"scattermapbox\":[{\"type\":\"scattermapbox\",\"marker\":{\"colorbar\":{\"outlinewidth\":0,\"ticks\":\"\"}}}],\"scatterternary\":[{\"type\":\"scatterternary\",\"marker\":{\"colorbar\":{\"outlinewidth\":0,\"ticks\":\"\"}}}],\"scattercarpet\":[{\"type\":\"scattercarpet\",\"marker\":{\"colorbar\":{\"outlinewidth\":0,\"ticks\":\"\"}}}],\"carpet\":[{\"aaxis\":{\"endlinecolor\":\"#2a3f5f\",\"gridcolor\":\"white\",\"linecolor\":\"white\",\"minorgridcolor\":\"white\",\"startlinecolor\":\"#2a3f5f\"},\"baxis\":{\"endlinecolor\":\"#2a3f5f\",\"gridcolor\":\"white\",\"linecolor\":\"white\",\"minorgridcolor\":\"white\",\"startlinecolor\":\"#2a3f5f\"},\"type\":\"carpet\"}],\"table\":[{\"cells\":{\"fill\":{\"color\":\"#EBF0F8\"},\"line\":{\"color\":\"white\"}},\"header\":{\"fill\":{\"color\":\"#C8D4E3\"},\"line\":{\"color\":\"white\"}},\"type\":\"table\"}],\"barpolar\":[{\"marker\":{\"line\":{\"color\":\"#E5ECF6\",\"width\":0.5},\"pattern\":{\"fillmode\":\"overlay\",\"size\":10,\"solidity\":0.2}},\"type\":\"barpolar\"}],\"pie\":[{\"automargin\":true,\"type\":\"pie\"}]},\"layout\":{\"autotypenumbers\":\"strict\",\"colorway\":[\"#636efa\",\"#EF553B\",\"#00cc96\",\"#ab63fa\",\"#FFA15A\",\"#19d3f3\",\"#FF6692\",\"#B6E880\",\"#FF97FF\",\"#FECB52\"],\"font\":{\"color\":\"#2a3f5f\"},\"hovermode\":\"closest\",\"hoverlabel\":{\"align\":\"left\"},\"paper_bgcolor\":\"white\",\"plot_bgcolor\":\"#E5ECF6\",\"polar\":{\"bgcolor\":\"#E5ECF6\",\"angularaxis\":{\"gridcolor\":\"white\",\"linecolor\":\"white\",\"ticks\":\"\"},\"radialaxis\":{\"gridcolor\":\"white\",\"linecolor\":\"white\",\"ticks\":\"\"}},\"ternary\":{\"bgcolor\":\"#E5ECF6\",\"aaxis\":{\"gridcolor\":\"white\",\"linecolor\":\"white\",\"ticks\":\"\"},\"baxis\":{\"gridcolor\":\"white\",\"linecolor\":\"white\",\"ticks\":\"\"},\"caxis\":{\"gridcolor\":\"white\",\"linecolor\":\"white\",\"ticks\":\"\"}},\"coloraxis\":{\"colorbar\":{\"outlinewidth\":0,\"ticks\":\"\"}},\"colorscale\":{\"sequential\":[[0.0,\"#0d0887\"],[0.1111111111111111,\"#46039f\"],[0.2222222222222222,\"#7201a8\"],[0.3333333333333333,\"#9c179e\"],[0.4444444444444444,\"#bd3786\"],[0.5555555555555556,\"#d8576b\"],[0.6666666666666666,\"#ed7953\"],[0.7777777777777778,\"#fb9f3a\"],[0.8888888888888888,\"#fdca26\"],[1.0,\"#f0f921\"]],\"sequentialminus\":[[0.0,\"#0d0887\"],[0.1111111111111111,\"#46039f\"],[0.2222222222222222,\"#7201a8\"],[0.3333333333333333,\"#9c179e\"],[0.4444444444444444,\"#bd3786\"],[0.5555555555555556,\"#d8576b\"],[0.6666666666666666,\"#ed7953\"],[0.7777777777777778,\"#fb9f3a\"],[0.8888888888888888,\"#fdca26\"],[1.0,\"#f0f921\"]],\"diverging\":[[0,\"#8e0152\"],[0.1,\"#c51b7d\"],[0.2,\"#de77ae\"],[0.3,\"#f1b6da\"],[0.4,\"#fde0ef\"],[0.5,\"#f7f7f7\"],[0.6,\"#e6f5d0\"],[0.7,\"#b8e186\"],[0.8,\"#7fbc41\"],[0.9,\"#4d9221\"],[1,\"#276419\"]]},\"xaxis\":{\"gridcolor\":\"white\",\"linecolor\":\"white\",\"ticks\":\"\",\"title\":{\"standoff\":15},\"zerolinecolor\":\"white\",\"automargin\":true,\"zerolinewidth\":2},\"yaxis\":{\"gridcolor\":\"white\",\"linecolor\":\"white\",\"ticks\":\"\",\"title\":{\"standoff\":15},\"zerolinecolor\":\"white\",\"automargin\":true,\"zerolinewidth\":2},\"scene\":{\"xaxis\":{\"backgroundcolor\":\"#E5ECF6\",\"gridcolor\":\"white\",\"linecolor\":\"white\",\"showbackground\":true,\"ticks\":\"\",\"zerolinecolor\":\"white\",\"gridwidth\":2},\"yaxis\":{\"backgroundcolor\":\"#E5ECF6\",\"gridcolor\":\"white\",\"linecolor\":\"white\",\"showbackground\":true,\"ticks\":\"\",\"zerolinecolor\":\"white\",\"gridwidth\":2},\"zaxis\":{\"backgroundcolor\":\"#E5ECF6\",\"gridcolor\":\"white\",\"linecolor\":\"white\",\"showbackground\":true,\"ticks\":\"\",\"zerolinecolor\":\"white\",\"gridwidth\":2}},\"shapedefaults\":{\"line\":{\"color\":\"#2a3f5f\"}},\"annotationdefaults\":{\"arrowcolor\":\"#2a3f5f\",\"arrowhead\":0,\"arrowwidth\":1},\"geo\":{\"bgcolor\":\"white\",\"landcolor\":\"#E5ECF6\",\"subunitcolor\":\"white\",\"showland\":true,\"showlakes\":true,\"lakecolor\":\"white\"},\"title\":{\"x\":0.05},\"mapbox\":{\"style\":\"light\"}}},\"xaxis\":{\"anchor\":\"y\",\"domain\":[0.0,1.0],\"title\":{\"text\":\"population_population_number_of_people\"}},\"yaxis\":{\"anchor\":\"x\",\"domain\":[0.0,1.0],\"title\":{\"text\":\"gdp\"}},\"legend\":{\"title\":{\"text\":\"National Law Governing Solid Waste Management\"},\"tracegroupgap\":0,\"itemsizing\":\"constant\"},\"title\":{\"text\":\"Does GDP and having agencys to enforce solid waste laws correspond\"}},                        {\"responsive\": true}                    ).then(function(){\n                            \nvar gd = document.getElementById('c59f93bc-4757-4277-9e61-0bb60c3f8a6c');\nvar x = new MutationObserver(function (mutations, observer) {{\n        var display = window.getComputedStyle(gd).display;\n        if (!display || display === 'none') {{\n            console.log([gd, 'removed!']);\n            Plotly.purge(gd);\n            observer.disconnect();\n        }}\n}});\n\n// Listen for the removal of the full notebook cells\nvar notebookContainer = gd.closest('#notebook-container');\nif (notebookContainer) {{\n    x.observe(notebookContainer, {childList: true});\n}}\n\n// Listen for the clearing of the current output cell\nvar outputEl = gd.closest('.output');\nif (outputEl) {{\n    x.observe(outputEl, {childList: true});\n}}\n\n                        })                };                            </script>        </div>\n</body>\n</html>"
     },
     "execution_count": 35,
     "metadata": {
     },
     "output_type": "execute_result"
    }
   ],
   "source": [
    "my_dataset = pd.read_csv(\"Cleaned_Global_pollution.csv\")\n",
    "fig = px.scatter(my_dataset, y=\"gdp\", x='population_population_number_of_people', size = 'population_population_number_of_people', hover_data = ['country_name'], color = 'other_information_national_agency_to_enforce_solid_waste_laws_and_regulations',color_discrete_sequence=['cornflowerblue', \"crimson\"], size_max=50, title = 'Does GDP and having agencys to enforce solid waste laws correspond')\n",
    "\n",
    "fig.update_layout(legend_title_text='National Law Governing Solid Waste Management')\n",
    "\n",
    "fig.show()\n"
   ]
  },
  {
   "cell_type": "markdown",
   "metadata": {
    "collapsed": false
   },
   "source": [
    "No. A national law that enforces solid waste regulations does not affect the GDP\\( gross domestic product\\).\n",
    "\n"
   ]
  }
 ],
 "metadata": {
  "kernelspec": {
   "display_name": "Python (ds_env)",
   "language": "python",
   "metadata": {
    "debugger": true
   },
   "name": "ds_env",
   "resource_dir": "/projects/0fe9ce53-f18e-41bd-a627-854b8ef07e60/.local/share/jupyter/kernels/ds_env"
  },
  "language_info": {
   "codemirror_mode": {
    "name": "ipython",
    "version": 3
   },
   "file_extension": ".py",
   "mimetype": "text/x-python",
   "name": "python",
   "nbconvert_exporter": "python",
   "pygments_lexer": "ipython3",
   "version": "3.10.8"
  }
 },
 "nbformat": 4,
 "nbformat_minor": 4
}